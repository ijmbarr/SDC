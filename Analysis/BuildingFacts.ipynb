{
 "metadata": {
  "name": ""
 },
 "nbformat": 3,
 "nbformat_minor": 0,
 "worksheets": [
  {
   "cells": [
    {
     "cell_type": "code",
     "collapsed": false,
     "input": [
      "import numpy as np\n",
      "import pandas as pd\n",
      "import matplotlib.pyplot as plt\n",
      "%matplotlib inline"
     ],
     "language": "python",
     "metadata": {},
     "outputs": [],
     "prompt_number": 1
    },
    {
     "cell_type": "code",
     "collapsed": false,
     "input": [
      "mapDirectory = \"../Data/MapData/\"\n",
      "hpDirectory = \"../Data/HousePriceData/\"\n",
      "pcDirectory = \"../Data/PostCodeData/\""
     ],
     "language": "python",
     "metadata": {},
     "outputs": [],
     "prompt_number": 2
    },
    {
     "cell_type": "code",
     "collapsed": false,
     "input": [
      "hp = pd.read_csv(hpDirectory + \"HousePriceReduced.csv\")\n",
      "del hp[\"Unnamed: 0\"]\n",
      "\n",
      "pc = pd.read_csv(pcDirectory + \"postCodes.csv\")\n",
      "pc.rename( columns={\"ZONEID\":\"Lsoa11\"}, inplace=True)"
     ],
     "language": "python",
     "metadata": {},
     "outputs": [],
     "prompt_number": 16
    },
    {
     "cell_type": "code",
     "collapsed": false,
     "input": [
      "hp.head()"
     ],
     "language": "python",
     "metadata": {},
     "outputs": [
      {
       "html": [
        "<div style=\"max-height:1000px;max-width:1500px;overflow:auto;\">\n",
        "<table border=\"1\" class=\"dataframe\">\n",
        "  <thead>\n",
        "    <tr style=\"text-align: right;\">\n",
        "      <th></th>\n",
        "      <th>Price</th>\n",
        "      <th>Postcode</th>\n",
        "      <th>Property_Type</th>\n",
        "      <th>Newbuild</th>\n",
        "      <th>Freeorlease</th>\n",
        "      <th>Month</th>\n",
        "      <th>Latitude</th>\n",
        "      <th>Longitude</th>\n",
        "      <th>Ward</th>\n",
        "      <th>Lsoa11</th>\n",
        "      <th>Msoa11</th>\n",
        "    </tr>\n",
        "  </thead>\n",
        "  <tbody>\n",
        "    <tr>\n",
        "      <th>0</th>\n",
        "      <td> 150000</td>\n",
        "      <td> SM51EQ</td>\n",
        "      <td> T</td>\n",
        "      <td> N</td>\n",
        "      <td> F</td>\n",
        "      <td> 2009-03-01 00:00:00</td>\n",
        "      <td> 51.39036</td>\n",
        "      <td>-0.174347</td>\n",
        "      <td> E05000571</td>\n",
        "      <td> E01004189</td>\n",
        "      <td> E02000840</td>\n",
        "    </tr>\n",
        "    <tr>\n",
        "      <th>1</th>\n",
        "      <td> 195000</td>\n",
        "      <td> SM51EQ</td>\n",
        "      <td> T</td>\n",
        "      <td> N</td>\n",
        "      <td> F</td>\n",
        "      <td> 2010-08-01 00:00:00</td>\n",
        "      <td> 51.39036</td>\n",
        "      <td>-0.174347</td>\n",
        "      <td> E05000571</td>\n",
        "      <td> E01004189</td>\n",
        "      <td> E02000840</td>\n",
        "    </tr>\n",
        "    <tr>\n",
        "      <th>2</th>\n",
        "      <td> 227000</td>\n",
        "      <td> CR28PX</td>\n",
        "      <td> S</td>\n",
        "      <td> N</td>\n",
        "      <td> F</td>\n",
        "      <td> 2009-08-01 00:00:00</td>\n",
        "      <td> 51.34276</td>\n",
        "      <td>-0.051464</td>\n",
        "      <td> E05000162</td>\n",
        "      <td> E01001119</td>\n",
        "      <td> E02000227</td>\n",
        "    </tr>\n",
        "    <tr>\n",
        "      <th>3</th>\n",
        "      <td> 230000</td>\n",
        "      <td> CR28PX</td>\n",
        "      <td> S</td>\n",
        "      <td> N</td>\n",
        "      <td> F</td>\n",
        "      <td> 2009-07-01 00:00:00</td>\n",
        "      <td> 51.34276</td>\n",
        "      <td>-0.051464</td>\n",
        "      <td> E05000162</td>\n",
        "      <td> E01001119</td>\n",
        "      <td> E02000227</td>\n",
        "    </tr>\n",
        "    <tr>\n",
        "      <th>4</th>\n",
        "      <td> 222000</td>\n",
        "      <td> CR28PX</td>\n",
        "      <td> S</td>\n",
        "      <td> N</td>\n",
        "      <td> F</td>\n",
        "      <td> 2009-12-01 00:00:00</td>\n",
        "      <td> 51.34276</td>\n",
        "      <td>-0.051464</td>\n",
        "      <td> E05000162</td>\n",
        "      <td> E01001119</td>\n",
        "      <td> E02000227</td>\n",
        "    </tr>\n",
        "  </tbody>\n",
        "</table>\n",
        "<p>5 rows \u00d7 11 columns</p>\n",
        "</div>"
       ],
       "metadata": {},
       "output_type": "pyout",
       "prompt_number": 4,
       "text": [
        "    Price Postcode Property_Type Newbuild Freeorlease                Month  \\\n",
        "0  150000   SM51EQ             T        N           F  2009-03-01 00:00:00   \n",
        "1  195000   SM51EQ             T        N           F  2010-08-01 00:00:00   \n",
        "2  227000   CR28PX             S        N           F  2009-08-01 00:00:00   \n",
        "3  230000   CR28PX             S        N           F  2009-07-01 00:00:00   \n",
        "4  222000   CR28PX             S        N           F  2009-12-01 00:00:00   \n",
        "\n",
        "   Latitude  Longitude       Ward     Lsoa11     Msoa11  \n",
        "0  51.39036  -0.174347  E05000571  E01004189  E02000840  \n",
        "1  51.39036  -0.174347  E05000571  E01004189  E02000840  \n",
        "2  51.34276  -0.051464  E05000162  E01001119  E02000227  \n",
        "3  51.34276  -0.051464  E05000162  E01001119  E02000227  \n",
        "4  51.34276  -0.051464  E05000162  E01001119  E02000227  \n",
        "\n",
        "[5 rows x 11 columns]"
       ]
      }
     ],
     "prompt_number": 4
    },
    {
     "cell_type": "code",
     "collapsed": false,
     "input": [
      "pc.head()"
     ],
     "language": "python",
     "metadata": {},
     "outputs": [
      {
       "html": [
        "<div style=\"max-height:1000px;max-width:1500px;overflow:auto;\">\n",
        "<table border=\"1\" class=\"dataframe\">\n",
        "  <thead>\n",
        "    <tr style=\"text-align: right;\">\n",
        "      <th></th>\n",
        "      <th>Postcode</th>\n",
        "      <th>Lsoa11</th>\n",
        "      <th>Ward</th>\n",
        "      <th>Msoa11</th>\n",
        "      <th>Latitude</th>\n",
        "      <th>Longitude</th>\n",
        "    </tr>\n",
        "  </thead>\n",
        "  <tbody>\n",
        "    <tr>\n",
        "      <th>0</th>\n",
        "      <td> BR11AA</td>\n",
        "      <td> E01000676</td>\n",
        "      <td> E05000109</td>\n",
        "      <td> E02000134</td>\n",
        "      <td> 51.40627</td>\n",
        "      <td> 0.015177</td>\n",
        "    </tr>\n",
        "    <tr>\n",
        "      <th>1</th>\n",
        "      <td> BR11AB</td>\n",
        "      <td> E01000676</td>\n",
        "      <td> E05000109</td>\n",
        "      <td> E02000134</td>\n",
        "      <td> 51.40627</td>\n",
        "      <td> 0.015177</td>\n",
        "    </tr>\n",
        "    <tr>\n",
        "      <th>2</th>\n",
        "      <td> BR11AE</td>\n",
        "      <td> E01000677</td>\n",
        "      <td> E05000109</td>\n",
        "      <td> E02000144</td>\n",
        "      <td> 51.40452</td>\n",
        "      <td> 0.014151</td>\n",
        "    </tr>\n",
        "    <tr>\n",
        "      <th>3</th>\n",
        "      <td> BR11AX</td>\n",
        "      <td> E01000676</td>\n",
        "      <td> E05000109</td>\n",
        "      <td> E02000134</td>\n",
        "      <td> 51.40823</td>\n",
        "      <td> 0.017578</td>\n",
        "    </tr>\n",
        "    <tr>\n",
        "      <th>4</th>\n",
        "      <td> BR11BA</td>\n",
        "      <td> E01000670</td>\n",
        "      <td> E05000109</td>\n",
        "      <td> E02000144</td>\n",
        "      <td> 51.39909</td>\n",
        "      <td> 0.015436</td>\n",
        "    </tr>\n",
        "  </tbody>\n",
        "</table>\n",
        "<p>5 rows \u00d7 6 columns</p>\n",
        "</div>"
       ],
       "metadata": {},
       "output_type": "pyout",
       "prompt_number": 17,
       "text": [
        "  Postcode     Lsoa11       Ward     Msoa11  Latitude  Longitude\n",
        "0   BR11AA  E01000676  E05000109  E02000134  51.40627   0.015177\n",
        "1   BR11AB  E01000676  E05000109  E02000134  51.40627   0.015177\n",
        "2   BR11AE  E01000677  E05000109  E02000144  51.40452   0.014151\n",
        "3   BR11AX  E01000676  E05000109  E02000134  51.40823   0.017578\n",
        "4   BR11BA  E01000670  E05000109  E02000144  51.39909   0.015436\n",
        "\n",
        "[5 rows x 6 columns]"
       ]
      }
     ],
     "prompt_number": 17
    },
    {
     "cell_type": "markdown",
     "metadata": {},
     "source": [
      "Aims:\n",
      "------\n",
      "\n",
      "A rough goal is build up a table that maps from Postcode to some string that can be dumped in a tweet. The areas we will try to buiild the list can be grouped into three broad areas:\n",
      "\n",
      "House Prices:\n",
      "- In this area the average house price is \u00a3x.\n",
      "- House prices in this area have increased by \u00a3x last year, that's y%.\n",
      "- This area is in the (top/bottom) x% of house prices in London.\n",
      "\n",
      "Proximity stuff\n",
      "- If you head (N/S/E/W) the house prices tend to (inc/dec).\n",
      "\n",
      "Travel: (probably not feasable in current timeframe)\n",
      "- To commute to (Bank) takes x mins. To commute to (Canary Wharf) takes y mins. To commute to (London Bridge) takes z mins.\n",
      "- To cycle to (Bank) takes x mins. To cycle to (Canary Wharf) takes y mins. To cycle to (London Bridge) takes z mins.\n",
      "\n",
      "Stats to be ripped from Census data:\n",
      "- This area has an unusually large/small number of x offences.\n",
      "- People who live here tend to be x years old, that's a little/well/not very much above/below average.\n",
      "- This area has more/less singles/families/students than average.\n",
      "- This area has the most/least number of x houses in London.<-This is across all census data.\n",
      "- In this area x% of people own their house, y% rent and z% live rent free.\n",
      "- There are x kids per household in this area, that's above/below/about average for London."
     ]
    },
    {
     "cell_type": "markdown",
     "metadata": {},
     "source": [
      "1. House prices\n",
      "---------------"
     ]
    },
    {
     "cell_type": "code",
     "collapsed": false,
     "input": [
      "avgPrice = hp[\"Price\"].median()\n",
      "\n",
      "def saySomethingPrice1(row):\n",
      "    p = row[\"Price\"]\n",
      "    percentChange = 100.0*(p/avgPrice - 1.0)\n",
      "    if percentChange < 0:\n",
      "        return \"The median houseprice in this area is \u00a3{0}.\".format(int(p))\n",
      "    else:\n",
      "        return \"The median houseprice in this area is \u00a3{0}.\".format(int(p))\n",
      "\n",
      "def saySomethingPrice2(row):\n",
      "    p = row[\"Price\"]\n",
      "    percentChange = 100.0*(p/avgPrice - 1.0)\n",
      "    if percentChange < 0:\n",
      "        return \"This price is {0}% below london average\".format(int(abs(percentChange)))\n",
      "    else:\n",
      "        return \"This price is {0}% above london average\".format(int(abs(percentChange)))"
     ],
     "language": "python",
     "metadata": {},
     "outputs": [],
     "prompt_number": 430
    },
    {
     "cell_type": "code",
     "collapsed": false,
     "input": [
      "priceByLSOA = hp.groupby(\"Lsoa11\").median()\n",
      "priceByLSOA[\"price\"] = priceByLSOA.apply(saySomethingPrice1, axis=1)\n",
      "priceByLSOA[\"describePrice\"] = priceByLSOA.apply(saySomethingPrice2, axis=1)"
     ],
     "language": "python",
     "metadata": {},
     "outputs": [],
     "prompt_number": 431
    },
    {
     "cell_type": "code",
     "collapsed": false,
     "input": [
      "priceByPC = pd.merge(pc[ [\"Postcode\", \"Lsoa11\"] ], priceByLSOA, left_on=\"Lsoa11\", right_index=True, how=\"left\")[ [\"Postcode\", \"price\", \"describePrice\"] ]"
     ],
     "language": "python",
     "metadata": {},
     "outputs": [],
     "prompt_number": 432
    },
    {
     "cell_type": "code",
     "collapsed": false,
     "input": [
      "priceByPC.head()"
     ],
     "language": "python",
     "metadata": {},
     "outputs": [
      {
       "html": [
        "<div style=\"max-height:1000px;max-width:1500px;overflow:auto;\">\n",
        "<table border=\"1\" class=\"dataframe\">\n",
        "  <thead>\n",
        "    <tr style=\"text-align: right;\">\n",
        "      <th></th>\n",
        "      <th>Postcode</th>\n",
        "      <th>price</th>\n",
        "      <th>describePrice</th>\n",
        "    </tr>\n",
        "  </thead>\n",
        "  <tbody>\n",
        "    <tr>\n",
        "      <th>0</th>\n",
        "      <td> BR11AA</td>\n",
        "      <td> The median houseprice in this area is \u00a3216000.</td>\n",
        "      <td> This price is 27% below london average</td>\n",
        "    </tr>\n",
        "    <tr>\n",
        "      <th>1</th>\n",
        "      <td> BR11AB</td>\n",
        "      <td> The median houseprice in this area is \u00a3216000.</td>\n",
        "      <td> This price is 27% below london average</td>\n",
        "    </tr>\n",
        "    <tr>\n",
        "      <th>2</th>\n",
        "      <td> BR11AE</td>\n",
        "      <td> The median houseprice in this area is \u00a3270000.</td>\n",
        "      <td>  This price is 9% below london average</td>\n",
        "    </tr>\n",
        "    <tr>\n",
        "      <th>3</th>\n",
        "      <td> BR11AX</td>\n",
        "      <td> The median houseprice in this area is \u00a3216000.</td>\n",
        "      <td> This price is 27% below london average</td>\n",
        "    </tr>\n",
        "    <tr>\n",
        "      <th>4</th>\n",
        "      <td> BR11BA</td>\n",
        "      <td> The median houseprice in this area is \u00a3327000.</td>\n",
        "      <td>  This price is 9% above london average</td>\n",
        "    </tr>\n",
        "  </tbody>\n",
        "</table>\n",
        "<p>5 rows \u00d7 3 columns</p>\n",
        "</div>"
       ],
       "metadata": {},
       "output_type": "pyout",
       "prompt_number": 433,
       "text": [
        "  Postcode                                           price  \\\n",
        "0   BR11AA  The median houseprice in this area is \u00a3216000.   \n",
        "1   BR11AB  The median houseprice in this area is \u00a3216000.   \n",
        "2   BR11AE  The median houseprice in this area is \u00a3270000.   \n",
        "3   BR11AX  The median houseprice in this area is \u00a3216000.   \n",
        "4   BR11BA  The median houseprice in this area is \u00a3327000.   \n",
        "\n",
        "                            describePrice  \n",
        "0  This price is 27% below london average  \n",
        "1  This price is 27% below london average  \n",
        "2   This price is 9% below london average  \n",
        "3  This price is 27% below london average  \n",
        "4   This price is 9% above london average  \n",
        "\n",
        "[5 rows x 3 columns]"
       ]
      }
     ],
     "prompt_number": 433
    },
    {
     "cell_type": "code",
     "collapsed": false,
     "input": [
      "msoas = np.unique(hp[\"Msoa11\"].values)"
     ],
     "language": "python",
     "metadata": {},
     "outputs": [],
     "prompt_number": 42
    },
    {
     "cell_type": "code",
     "collapsed": false,
     "input": [
      "def getIncrease(msoa):\n",
      "    msoaSubset = hp[hp[\"Msoa11\"] == msoa]\n",
      "    msoaSubset2012 = msoaSubset[ msoaSubset[\"Month\"].apply( (lambda x: x[0:4])) == \"2012\" ]\n",
      "    msoaSubset2013 = msoaSubset[ msoaSubset[\"Month\"].apply( (lambda x: x[0:4])) == \"2013\" ]\n",
      "    hp2012 = np.median(msoaSubset2012[\"Price\"].values)\n",
      "    hp2013 = np.median(msoaSubset2013[\"Price\"].values)\n",
      "    return (100.0*hp2013)/hp2012 - 100"
     ],
     "language": "python",
     "metadata": {},
     "outputs": [],
     "prompt_number": 65
    },
    {
     "cell_type": "code",
     "collapsed": false,
     "input": [
      "incByMsoa = pd.DataFrame({\"Msoa11\" : msoas, \"PercentIncrease\": map(getIncrease, msoas)})"
     ],
     "language": "python",
     "metadata": {},
     "outputs": [],
     "prompt_number": 441
    },
    {
     "cell_type": "code",
     "collapsed": false,
     "input": [
      "incByPc = pd.merge(pc[ [\"Postcode\", \"Msoa11\"] ], incByMsoa, left_on=\"Msoa11\", right_on=\"Msoa11\", how=\"left\")[ [\"Postcode\", \"Msoa11\", \"PercentIncrease\"] ]"
     ],
     "language": "python",
     "metadata": {},
     "outputs": [],
     "prompt_number": 457
    },
    {
     "cell_type": "code",
     "collapsed": false,
     "input": [
      "incByPc[\"PercentIncrease\"].hist(bins=100)"
     ],
     "language": "python",
     "metadata": {},
     "outputs": [
      {
       "metadata": {},
       "output_type": "pyout",
       "prompt_number": 458,
       "text": [
        "<matplotlib.axes.AxesSubplot at 0x7fce3b507dd0>"
       ]
      },
      {
       "metadata": {},
       "output_type": "display_data",
       "png": "[encoded data removed]",
       "text": [
        "<matplotlib.figure.Figure at 0x7fce50323390>"
       ]
      }
     ],
     "prompt_number": 458
    },
    {
     "cell_type": "code",
     "collapsed": false,
     "input": [
      "avg2012 = hp[hp[\"Month\"].apply( (lambda x: x[0:4])) == \"2012\" ][\"Price\"].median()\n",
      "avg2013 = hp[hp[\"Month\"].apply( (lambda x: x[0:4])) == \"2013\" ][\"Price\"].median()\n",
      "londonAvgInc = 100.0*(avg2013/avg2012 - 1)"
     ],
     "language": "python",
     "metadata": {},
     "outputs": [],
     "prompt_number": 444
    },
    {
     "cell_type": "code",
     "collapsed": false,
     "input": [
      "def saySomethingPriceIncrease(row):\n",
      "    pinc = row[\"PercentIncrease\"]\n",
      "    if pinc < londonAvgInc*0.95:\n",
      "        return \"Last year this changed by {0}%, below london average.\".format(int(pinc))\n",
      "    elif pinc > londonAvgInc*1.05:\n",
      "        return \"Last year this changed by {0}%, above london average.\".format(int(pinc))\n",
      "    else:\n",
      "        return \"Last year this changed by {0}%, about london average.\".format(int(pinc))"
     ],
     "language": "python",
     "metadata": {},
     "outputs": [],
     "prompt_number": 455
    },
    {
     "cell_type": "code",
     "collapsed": false,
     "input": [
      "incByPc[\"DescribeIncrease\"] = incByPc.apply(saySomethingPriceIncrease, axis=1)"
     ],
     "language": "python",
     "metadata": {},
     "outputs": [],
     "prompt_number": 459
    },
    {
     "cell_type": "code",
     "collapsed": false,
     "input": [
      "incByPc.head()"
     ],
     "language": "python",
     "metadata": {},
     "outputs": [
      {
       "html": [
        "<div style=\"max-height:1000px;max-width:1500px;overflow:auto;\">\n",
        "<table border=\"1\" class=\"dataframe\">\n",
        "  <thead>\n",
        "    <tr style=\"text-align: right;\">\n",
        "      <th></th>\n",
        "      <th>Postcode</th>\n",
        "      <th>Msoa11</th>\n",
        "      <th>PercentIncrease</th>\n",
        "      <th>DescribeIncrease</th>\n",
        "    </tr>\n",
        "  </thead>\n",
        "  <tbody>\n",
        "    <tr>\n",
        "      <th>0</th>\n",
        "      <td> BR11AA</td>\n",
        "      <td> E02000134</td>\n",
        "      <td>-1.209677</td>\n",
        "      <td> NaN</td>\n",
        "    </tr>\n",
        "    <tr>\n",
        "      <th>1</th>\n",
        "      <td> BR11AB</td>\n",
        "      <td> E02000134</td>\n",
        "      <td>-1.209677</td>\n",
        "      <td> NaN</td>\n",
        "    </tr>\n",
        "    <tr>\n",
        "      <th>2</th>\n",
        "      <td> BR11AX</td>\n",
        "      <td> E02000134</td>\n",
        "      <td>-1.209677</td>\n",
        "      <td> NaN</td>\n",
        "    </tr>\n",
        "    <tr>\n",
        "      <th>3</th>\n",
        "      <td> BR11BP</td>\n",
        "      <td> E02000134</td>\n",
        "      <td>-1.209677</td>\n",
        "      <td> NaN</td>\n",
        "    </tr>\n",
        "    <tr>\n",
        "      <th>4</th>\n",
        "      <td> BR11BQ</td>\n",
        "      <td> E02000134</td>\n",
        "      <td>-1.209677</td>\n",
        "      <td> NaN</td>\n",
        "    </tr>\n",
        "  </tbody>\n",
        "</table>\n",
        "<p>5 rows \u00d7 4 columns</p>\n",
        "</div>"
       ],
       "metadata": {},
       "output_type": "pyout",
       "prompt_number": 449,
       "text": [
        "  Postcode     Msoa11  PercentIncrease DescribeIncrease\n",
        "0   BR11AA  E02000134        -1.209677              NaN\n",
        "1   BR11AB  E02000134        -1.209677              NaN\n",
        "2   BR11AX  E02000134        -1.209677              NaN\n",
        "3   BR11BP  E02000134        -1.209677              NaN\n",
        "4   BR11BQ  E02000134        -1.209677              NaN\n",
        "\n",
        "[5 rows x 4 columns]"
       ]
      }
     ],
     "prompt_number": 449
    },
    {
     "cell_type": "code",
     "collapsed": false,
     "input": [
      "medianPricesByLSOA = hp.groupby(\"Lsoa11\").median()[\"Price\"].values\n",
      "medianPricesByLSOA.sort()"
     ],
     "language": "python",
     "metadata": {},
     "outputs": [],
     "prompt_number": 100
    },
    {
     "cell_type": "code",
     "collapsed": false,
     "input": [
      "percentiles = [medianPricesByLSOA[x*len(medianPricesByLSOA)/10-1] for x in range(1,11)]\n",
      "percentiles.insert(0,0)"
     ],
     "language": "python",
     "metadata": {},
     "outputs": [],
     "prompt_number": 114
    },
    {
     "cell_type": "code",
     "collapsed": false,
     "input": [
      "lsoaPercentiles = hp.groupby(\"Lsoa11\").median()[\"Price\"].apply(lambda x : np.digitize([x], percentiles)[0])"
     ],
     "language": "python",
     "metadata": {},
     "outputs": [],
     "prompt_number": 127
    },
    {
     "cell_type": "code",
     "collapsed": false,
     "input": [
      "perByPC = pc[ [\"Postcode\", \"Lsoa11\"] ]\n",
      "perByPC[\"Percentile\"] = perByPC.apply(lambda r : lsoaPercentiles[r[\"Lsoa11\"]], axis=1)"
     ],
     "language": "python",
     "metadata": {},
     "outputs": [],
     "prompt_number": 139
    },
    {
     "cell_type": "code",
     "collapsed": false,
     "input": [
      "perByPC[\"Percentile\"].hist()"
     ],
     "language": "python",
     "metadata": {},
     "outputs": [
      {
       "metadata": {},
       "output_type": "pyout",
       "prompt_number": 144,
       "text": [
        "<matplotlib.axes.AxesSubplot at 0x7fce551f9b90>"
       ]
      },
      {
       "metadata": {},
       "output_type": "display_data",
       "png": "[encoded data removed]",
       "text": [
        "<matplotlib.figure.Figure at 0x7fce553d9f50>"
       ]
      }
     ],
     "prompt_number": 144
    },
    {
     "cell_type": "markdown",
     "metadata": {},
     "source": [
      "2. Other Stuff\n",
      "--------------------\n",
      "\n",
      "In this case we are looking for something slightly different from the above work: rather than evalutating some property of the system for a given area we want to calculate an average property for london, and then make a note of areas in which that property is different enough to be interesting. Let's start with types of house sold:"
     ]
    },
    {
     "cell_type": "code",
     "collapsed": false,
     "input": [
      "lsoas = np.unique(hp[\"Lsoa11\"].values)"
     ],
     "language": "python",
     "metadata": {},
     "outputs": [],
     "prompt_number": 179
    },
    {
     "cell_type": "code",
     "collapsed": false,
     "input": [
      "houseTypes = np.unique(hp[\"Property_Type\"].values)\n",
      "avg = [ (hp[\"Property_Type\"] == t).sum()/float(len(hp)) for t in houseTypes ]\n",
      "\n",
      "def listDif(l1,l2):\n",
      "    return [l1[i] - l2[i] for i in range(len(l1))]\n",
      "\n",
      "houseTypesDict = {'D':\"Detached Houses\", 'F':\"Flats\", 'S':\"Semi-Detached Houses\", 'T':\"Terraced Houses\"}\n",
      "\n",
      "def saySomething(lsoa):\n",
      "    lsoaSubset = lsoaSubset = hp[ hp[\"Lsoa11\"] == lsoa ]\n",
      "    lsoaAvg = [ (lsoaSubset[\"Property_Type\"] == t).sum()/float(len(lsoaSubset)) for t in houseTypes ]\n",
      "    dif = listDif(avg, lsoaAvg)\n",
      "    absDif = map(abs,dif)\n",
      "    biggestDif = max(absDif)\n",
      "    posBiggestDif = absDif.index(biggestDif)\n",
      "    if biggestDif < 0.1:\n",
      "        return \"This area has housing types that are about average for london\"\n",
      "    else:\n",
      "        if dif[posBiggestDif] < 0:\n",
      "            return \"This area has more {0} than the london average\".format(houseTypesDict[houseTypes[posBiggestDif]])\n",
      "        else:\n",
      "            return \"This area has less {0} than the london average\".format(houseTypesDict[houseTypes[posBiggestDif]])"
     ],
     "language": "python",
     "metadata": {},
     "outputs": [],
     "prompt_number": 202
    },
    {
     "cell_type": "code",
     "collapsed": false,
     "input": [
      "lsoaByHouseTypes = pd.DataFrame({\"Lsoa11\" : lsoas, \"HouseTypes\": map(saySomething, lsoas)})"
     ],
     "language": "python",
     "metadata": {},
     "outputs": [],
     "prompt_number": 208
    },
    {
     "cell_type": "code",
     "collapsed": false,
     "input": [
      "pcByHouseTypes = pd.merge(pc[ [\"Postcode\", \"Lsoa11\"] ], lsoaByHouseTypes, left_on=\"Lsoa11\", right_on=\"Lsoa11\", how=\"left\")[ [\"Postcode\", \"Lsoa11\", \"HouseTypes\"] ]"
     ],
     "language": "python",
     "metadata": {},
     "outputs": [],
     "prompt_number": 211
    },
    {
     "cell_type": "markdown",
     "metadata": {},
     "source": [
      "Crime Data is also going to be interesting:"
     ]
    },
    {
     "cell_type": "code",
     "collapsed": false,
     "input": [
      "crimeDirectory = \"../Data/CrimeData/\"\n",
      "crime = pd.read_csv(crimeDirectory + \"crime.csv\")\n",
      "crime.rename(columns = {\"LSOA Code\":\"Lsoa11\"}, inplace=True)"
     ],
     "language": "python",
     "metadata": {},
     "outputs": [],
     "prompt_number": 227
    },
    {
     "cell_type": "code",
     "collapsed": false,
     "input": [
      "crime.head()"
     ],
     "language": "python",
     "metadata": {},
     "outputs": [
      {
       "html": [
        "<div style=\"max-height:1000px;max-width:1500px;overflow:auto;\">\n",
        "<table border=\"1\" class=\"dataframe\">\n",
        "  <thead>\n",
        "    <tr style=\"text-align: right;\">\n",
        "      <th></th>\n",
        "      <th>Month</th>\n",
        "      <th>MajorText</th>\n",
        "      <th>MinorText</th>\n",
        "      <th>Lsoa11</th>\n",
        "      <th>Crime Count</th>\n",
        "      <th>Ward Code</th>\n",
        "      <th>Old Ward Code</th>\n",
        "      <th>Ward Name</th>\n",
        "      <th>Borough</th>\n",
        "      <th>Unnamed: 9</th>\n",
        "    </tr>\n",
        "  </thead>\n",
        "  <tbody>\n",
        "    <tr>\n",
        "      <th>0</th>\n",
        "      <td> 201210</td>\n",
        "      <td>                    Burglary</td>\n",
        "      <td>           Burglary In A Dwelling</td>\n",
        "      <td> E01000027</td>\n",
        "      <td> 2</td>\n",
        "      <td> E05000029</td>\n",
        "      <td> 00ABGA</td>\n",
        "      <td> Chadwell Heath</td>\n",
        "      <td> Barking and Dagenham</td>\n",
        "      <td> NaN</td>\n",
        "    </tr>\n",
        "    <tr>\n",
        "      <th>1</th>\n",
        "      <td> 201210</td>\n",
        "      <td>             Criminal Damage</td>\n",
        "      <td> Criminal Damage To Motor Vehicle</td>\n",
        "      <td> E01000027</td>\n",
        "      <td> 2</td>\n",
        "      <td> E05000029</td>\n",
        "      <td> 00ABGA</td>\n",
        "      <td> Chadwell Heath</td>\n",
        "      <td> Barking and Dagenham</td>\n",
        "      <td> NaN</td>\n",
        "    </tr>\n",
        "    <tr>\n",
        "      <th>2</th>\n",
        "      <td> 201210</td>\n",
        "      <td> Violence Against The Person</td>\n",
        "      <td>              Assault With Injury</td>\n",
        "      <td> E01000027</td>\n",
        "      <td> 1</td>\n",
        "      <td> E05000029</td>\n",
        "      <td> 00ABGA</td>\n",
        "      <td> Chadwell Heath</td>\n",
        "      <td> Barking and Dagenham</td>\n",
        "      <td> NaN</td>\n",
        "    </tr>\n",
        "    <tr>\n",
        "      <th>3</th>\n",
        "      <td> 201210</td>\n",
        "      <td>            Theft &amp; Handling</td>\n",
        "      <td>    Theft/Taking Of Motor Vehicle</td>\n",
        "      <td> E01000027</td>\n",
        "      <td> 1</td>\n",
        "      <td> E05000029</td>\n",
        "      <td> 00ABGA</td>\n",
        "      <td> Chadwell Heath</td>\n",
        "      <td> Barking and Dagenham</td>\n",
        "      <td> NaN</td>\n",
        "    </tr>\n",
        "    <tr>\n",
        "      <th>4</th>\n",
        "      <td> 201210</td>\n",
        "      <td> Violence Against The Person</td>\n",
        "      <td>                   Common Assault</td>\n",
        "      <td> E01000027</td>\n",
        "      <td> 1</td>\n",
        "      <td> E05000029</td>\n",
        "      <td> 00ABGA</td>\n",
        "      <td> Chadwell Heath</td>\n",
        "      <td> Barking and Dagenham</td>\n",
        "      <td> NaN</td>\n",
        "    </tr>\n",
        "  </tbody>\n",
        "</table>\n",
        "<p>5 rows \u00d7 10 columns</p>\n",
        "</div>"
       ],
       "metadata": {},
       "output_type": "pyout",
       "prompt_number": 228,
       "text": [
        "    Month                    MajorText                         MinorText  \\\n",
        "0  201210                     Burglary            Burglary In A Dwelling   \n",
        "1  201210              Criminal Damage  Criminal Damage To Motor Vehicle   \n",
        "2  201210  Violence Against The Person               Assault With Injury   \n",
        "3  201210             Theft & Handling     Theft/Taking Of Motor Vehicle   \n",
        "4  201210  Violence Against The Person                    Common Assault   \n",
        "\n",
        "      Lsoa11  Crime Count  Ward Code Old Ward Code       Ward Name  \\\n",
        "0  E01000027            2  E05000029        00ABGA  Chadwell Heath   \n",
        "1  E01000027            2  E05000029        00ABGA  Chadwell Heath   \n",
        "2  E01000027            1  E05000029        00ABGA  Chadwell Heath   \n",
        "3  E01000027            1  E05000029        00ABGA  Chadwell Heath   \n",
        "4  E01000027            1  E05000029        00ABGA  Chadwell Heath   \n",
        "\n",
        "                Borough Unnamed: 9  \n",
        "0  Barking and Dagenham        NaN  \n",
        "1  Barking and Dagenham        NaN  \n",
        "2  Barking and Dagenham        NaN  \n",
        "3  Barking and Dagenham        NaN  \n",
        "4  Barking and Dagenham        NaN  \n",
        "\n",
        "[5 rows x 10 columns]"
       ]
      }
     ],
     "prompt_number": 228
    },
    {
     "cell_type": "code",
     "collapsed": false,
     "input": [
      "crimeType = np.unique(crime[\"MajorText\"].values)\n",
      "\n",
      "crimeAvg = [crime[(crime[\"MajorText\"] == c)][\"Crime Count\"].sum()/float(len(crime)) for c in crimeType]"
     ],
     "language": "python",
     "metadata": {},
     "outputs": [],
     "prompt_number": 219
    },
    {
     "cell_type": "code",
     "collapsed": false,
     "input": [
      "print crimeAvg\n",
      "print crimeType"
     ],
     "language": "python",
     "metadata": {},
     "outputs": [
      {
       "output_type": "stream",
       "stream": "stdout",
       "text": [
        "[0.2294416798818833, 0.15545332750041013, 0.12968775632963309, 0.031090392081806747, 0.074641822059386451, 0.81829304970744243, 0.43248892655985127]\n",
        "['Burglary' 'Criminal Damage' 'Drugs' 'Other Notifiable Offences' 'Robbery'\n",
        " 'Theft & Handling' 'Violence Against The Person']\n"
       ]
      }
     ],
     "prompt_number": 221
    },
    {
     "cell_type": "code",
     "collapsed": false,
     "input": [
      "def saySomethingCrime(lsoa):\n",
      "    lsoaSubset = lsoaSubset = crime[ crime[\"Lsoa11\"] == lsoa ]\n",
      "    lsoaAvg = [ lsoaSubset[lsoaSubset[\"MajorText\"] == t][\"Crime Count\"].sum()/float(len(lsoaSubset)) for t in crimeType ]\n",
      "    dif = listDif(avg, lsoaAvg)\n",
      "    absDif = map(abs,dif)\n",
      "    biggestDif = max(absDif)\n",
      "    posBiggestDif = absDif.index(biggestDif)\n",
      "    if dif[posBiggestDif] < 0:\n",
      "        return \"The area has more crimes of the type {0} than london average\".format(crimeType[posBiggestDif])        \n",
      "    else:\n",
      "        return \"This area has less crimes of the type {0} than london average\".format(crimeType[posBiggestDif])"
     ],
     "language": "python",
     "metadata": {},
     "outputs": [],
     "prompt_number": 465
    },
    {
     "cell_type": "code",
     "collapsed": false,
     "input": [
      "saySomethingCrime(lsoas[300])"
     ],
     "language": "python",
     "metadata": {},
     "outputs": [
      {
       "metadata": {},
       "output_type": "pyout",
       "prompt_number": 466,
       "text": [
        "'The area has more crimes of the type Burglary than london average'"
       ]
      }
     ],
     "prompt_number": 466
    },
    {
     "cell_type": "code",
     "collapsed": false,
     "input": [
      "lsaoByCrimeType = pd.DataFrame({\"Lsoa11\" : lsoas, \"CrimeTypes\": map(saySomethingCrime, lsoas)})"
     ],
     "language": "python",
     "metadata": {},
     "outputs": [],
     "prompt_number": 467
    },
    {
     "cell_type": "code",
     "collapsed": false,
     "input": [
      "pcByCrimeType = pd.merge(pc[ [\"Postcode\", \"Lsoa11\"] ], lsaoByCrimeType, left_on=\"Lsoa11\", right_on=\"Lsoa11\", how=\"left\")[ [\"Postcode\", \"CrimeTypes\"] ]"
     ],
     "language": "python",
     "metadata": {},
     "outputs": [],
     "prompt_number": 468
    },
    {
     "cell_type": "markdown",
     "metadata": {},
     "source": [
      "And the total number of crimes per LSOA"
     ]
    },
    {
     "cell_type": "code",
     "collapsed": false,
     "input": [
      "crimeCount = crime.groupby(\"Lsoa11\").sum()\n",
      "crimeCountAvg = crimeCount[\"Crime Count\"].mean()"
     ],
     "language": "python",
     "metadata": {},
     "outputs": [],
     "prompt_number": 286
    },
    {
     "cell_type": "code",
     "collapsed": false,
     "input": [
      "def saySomethingCrimeCount(row):\n",
      "    cc = row[\"Crime Count\"]\n",
      "    if cc > crimeCountAvg*1.1:\n",
      "        return \"This area has higher total reported crime than the london average\"\n",
      "    elif cc < crimeCountAvg*0.9:\n",
      "        return \"This area has lower total reported crime than the london average\"\n",
      "    else:\n",
      "        return \"This area has about the same total reported crime as the london average\"\n",
      "    \n",
      "crimeCount[\"crimeCountDescription\"] = crimeCount.apply(saySomethingCrimeCount, axis=1)"
     ],
     "language": "python",
     "metadata": {},
     "outputs": [],
     "prompt_number": 290
    },
    {
     "cell_type": "code",
     "collapsed": false,
     "input": [
      "crimeCount.head()"
     ],
     "language": "python",
     "metadata": {},
     "outputs": [
      {
       "html": [
        "<div style=\"max-height:1000px;max-width:1500px;overflow:auto;\">\n",
        "<table border=\"1\" class=\"dataframe\">\n",
        "  <thead>\n",
        "    <tr style=\"text-align: right;\">\n",
        "      <th></th>\n",
        "      <th>Month</th>\n",
        "      <th>Crime Count</th>\n",
        "      <th>crimeCountDescription</th>\n",
        "    </tr>\n",
        "    <tr>\n",
        "      <th>Lsoa11</th>\n",
        "      <th></th>\n",
        "      <th></th>\n",
        "      <th></th>\n",
        "    </tr>\n",
        "  </thead>\n",
        "  <tbody>\n",
        "    <tr>\n",
        "      <th>E01000001</th>\n",
        "      <td>  2214548</td>\n",
        "      <td>  12</td>\n",
        "      <td> This area has lower total reported crime than ...</td>\n",
        "    </tr>\n",
        "    <tr>\n",
        "      <th>E01000002</th>\n",
        "      <td>  1610364</td>\n",
        "      <td>   8</td>\n",
        "      <td> This area has lower total reported crime than ...</td>\n",
        "    </tr>\n",
        "    <tr>\n",
        "      <th>E01000003</th>\n",
        "      <td>   603928</td>\n",
        "      <td>   3</td>\n",
        "      <td> This area has lower total reported crime than ...</td>\n",
        "    </tr>\n",
        "    <tr>\n",
        "      <th>E01000005</th>\n",
        "      <td>  9261099</td>\n",
        "      <td>  51</td>\n",
        "      <td> This area has lower total reported crime than ...</td>\n",
        "    </tr>\n",
        "    <tr>\n",
        "      <th>E01000006</th>\n",
        "      <td> 25367948</td>\n",
        "      <td> 176</td>\n",
        "      <td> This area has lower total reported crime than ...</td>\n",
        "    </tr>\n",
        "  </tbody>\n",
        "</table>\n",
        "<p>5 rows \u00d7 3 columns</p>\n",
        "</div>"
       ],
       "metadata": {},
       "output_type": "pyout",
       "prompt_number": 291,
       "text": [
        "              Month  Crime Count  \\\n",
        "Lsoa11                             \n",
        "E01000001   2214548           12   \n",
        "E01000002   1610364            8   \n",
        "E01000003    603928            3   \n",
        "E01000005   9261099           51   \n",
        "E01000006  25367948          176   \n",
        "\n",
        "                                       crimeCountDescription  \n",
        "Lsoa11                                                        \n",
        "E01000001  This area has lower total reported crime than ...  \n",
        "E01000002  This area has lower total reported crime than ...  \n",
        "E01000003  This area has lower total reported crime than ...  \n",
        "E01000005  This area has lower total reported crime than ...  \n",
        "E01000006  This area has lower total reported crime than ...  \n",
        "\n",
        "[5 rows x 3 columns]"
       ]
      }
     ],
     "prompt_number": 291
    },
    {
     "cell_type": "code",
     "collapsed": false,
     "input": [
      "pcCrimeCount = pd.merge(pc[ [\"Postcode\", \"Lsoa11\"] ], crimeCount, left_on=\"Lsoa11\", right_index=True, how=\"left\")[ [\"Postcode\", \"crimeCountDescription\"]]"
     ],
     "language": "python",
     "metadata": {},
     "outputs": [],
     "prompt_number": 294
    },
    {
     "cell_type": "markdown",
     "metadata": {},
     "source": [
      "And average household income:"
     ]
    },
    {
     "cell_type": "code",
     "collapsed": false,
     "input": [
      "incomeDirectory = \"../Data/IncomeData/\"\n",
      "income = pd.read_csv(incomeDirectory + \"income.csv\")\n",
      "income.rename(columns = {\"Lower Super Output Area\":\"Lsoa11\"}, inplace=True)\n",
      "income.rename(columns = {\"Total Median Annual Household Income estimate\":\"MedianIncome\"}, inplace=True)\n",
      "\n",
      "import re\n",
      "notNum = re.compile(\"[^0-9]\")\n",
      "cleanIncome = lambda z : int(reduce(lambda x,y : x + y,notNum.split(z)))\n",
      "income[\"MedianIncome\"] = income[\"MedianIncome\"].apply(cleanIncome)\n",
      "\n",
      "income.head()"
     ],
     "language": "python",
     "metadata": {},
     "outputs": [
      {
       "html": [
        "<div style=\"max-height:1000px;max-width:1500px;overflow:auto;\">\n",
        "<table border=\"1\" class=\"dataframe\">\n",
        "  <thead>\n",
        "    <tr style=\"text-align: right;\">\n",
        "      <th></th>\n",
        "      <th>Lsoa11</th>\n",
        "      <th>Name</th>\n",
        "      <th>LAD code</th>\n",
        "      <th>Borough</th>\n",
        "      <th>Total Mean Annual Household Income estimate</th>\n",
        "      <th>MedianIncome</th>\n",
        "    </tr>\n",
        "  </thead>\n",
        "  <tbody>\n",
        "    <tr>\n",
        "      <th>0</th>\n",
        "      <td> E01000001</td>\n",
        "      <td> City of London 001A</td>\n",
        "      <td> E09000001</td>\n",
        "      <td> City of London</td>\n",
        "      <td> \ufffd74,846</td>\n",
        "      <td> 58347</td>\n",
        "    </tr>\n",
        "    <tr>\n",
        "      <th>1</th>\n",
        "      <td> E01000002</td>\n",
        "      <td> City of London 001B</td>\n",
        "      <td> E09000001</td>\n",
        "      <td> City of London</td>\n",
        "      <td> \ufffd73,325</td>\n",
        "      <td> 57159</td>\n",
        "    </tr>\n",
        "    <tr>\n",
        "      <th>2</th>\n",
        "      <td> E01000003</td>\n",
        "      <td> City of London 001C</td>\n",
        "      <td> E09000001</td>\n",
        "      <td> City of London</td>\n",
        "      <td> \ufffd44,130</td>\n",
        "      <td> 34387</td>\n",
        "    </tr>\n",
        "    <tr>\n",
        "      <th>3</th>\n",
        "      <td> E01000005</td>\n",
        "      <td> City of London 001E</td>\n",
        "      <td> E09000001</td>\n",
        "      <td> City of London</td>\n",
        "      <td> \ufffd30,781</td>\n",
        "      <td> 24000</td>\n",
        "    </tr>\n",
        "    <tr>\n",
        "      <th>4</th>\n",
        "      <td> E01032739</td>\n",
        "      <td> City of London 001F</td>\n",
        "      <td> E09000001</td>\n",
        "      <td> City of London</td>\n",
        "      <td> \ufffd68,022</td>\n",
        "      <td> 53017</td>\n",
        "    </tr>\n",
        "  </tbody>\n",
        "</table>\n",
        "<p>5 rows \u00d7 6 columns</p>\n",
        "</div>"
       ],
       "metadata": {},
       "output_type": "pyout",
       "prompt_number": 360,
       "text": [
        "      Lsoa11                 Name   LAD code         Borough  \\\n",
        "0  E01000001  City of London 001A  E09000001  City of London   \n",
        "1  E01000002  City of London 001B  E09000001  City of London   \n",
        "2  E01000003  City of London 001C  E09000001  City of London   \n",
        "3  E01000005  City of London 001E  E09000001  City of London   \n",
        "4  E01032739  City of London 001F  E09000001  City of London   \n",
        "\n",
        "  Total Mean Annual Household Income estimate  MedianIncome  \n",
        "0                                     \ufffd74,846         58347  \n",
        "1                                     \ufffd73,325         57159  \n",
        "2                                     \ufffd44,130         34387  \n",
        "3                                     \ufffd30,781         24000  \n",
        "4                                     \ufffd68,022         53017  \n",
        "\n",
        "[5 rows x 6 columns]"
       ]
      }
     ],
     "prompt_number": 360
    },
    {
     "cell_type": "code",
     "collapsed": false,
     "input": [
      "income[\"MedianIncome\"].hist()"
     ],
     "language": "python",
     "metadata": {},
     "outputs": [
      {
       "metadata": {},
       "output_type": "pyout",
       "prompt_number": 361,
       "text": [
        "<matplotlib.axes.AxesSubplot at 0x7fce3cc88710>"
       ]
      },
      {
       "metadata": {},
       "output_type": "display_data",
       "png": "[encoded data removed]",
       "text": [
        "<matplotlib.figure.Figure at 0x7fce3cc92610>"
       ]
      }
     ],
     "prompt_number": 361
    },
    {
     "cell_type": "code",
     "collapsed": false,
     "input": [
      "avgLondonIncome = income[\"MedianIncome\"].mean()"
     ],
     "language": "python",
     "metadata": {},
     "outputs": [],
     "prompt_number": 362
    },
    {
     "cell_type": "code",
     "collapsed": false,
     "input": [
      "def saySomethingIncome(row):\n",
      "    ic = row[\"MedianIncome\"]\n",
      "    if ic < avgLondonIncome*0.9:\n",
      "        return \"Average household income here is \u00a3{0}, below london average.\".format(int(ic))\n",
      "    if ic > avgLondonIncome*1.1:\n",
      "        return \"Average household income here is \u00a3{0}, above the london average.\".format(int(ic))\n",
      "    else:\n",
      "        return \"Average household income here is \u00a3{0}, about the london average.\".format(int(ic))"
     ],
     "language": "python",
     "metadata": {},
     "outputs": [],
     "prompt_number": 481
    },
    {
     "cell_type": "code",
     "collapsed": false,
     "input": [
      "income[\"IncomeDescription\"] = income.apply(saySomethingIncome, axis=1)"
     ],
     "language": "python",
     "metadata": {},
     "outputs": [],
     "prompt_number": 482
    },
    {
     "cell_type": "code",
     "collapsed": false,
     "input": [
      "pcIncome = pd.merge(pc[ [\"Postcode\", \"Lsoa11\"] ], income, left_on=\"Lsoa11\", right_on=\"Lsoa11\", how=\"left\")[ [\"Postcode\", \"IncomeDescription\"]]"
     ],
     "language": "python",
     "metadata": {},
     "outputs": [],
     "prompt_number": 483
    },
    {
     "cell_type": "markdown",
     "metadata": {},
     "source": [
      "Census Data\n",
      "-----------"
     ]
    },
    {
     "cell_type": "code",
     "collapsed": false,
     "input": [
      "censusDirectory = \"../Data/CensusData/\"\n",
      "censusAge = pd.read_excel(censusDirectory + \"censusData.xls\", \"ages1\")\n",
      "censusAge.rename(columns={\"Codes\":\"Lsoa11\"},inplace=True)\n",
      "censusAge = censusAge[ censusAge[\"Lsoa11\"].isin(hp[\"Lsoa11\"].values) ]\n",
      "censusAge.head()"
     ],
     "language": "python",
     "metadata": {},
     "outputs": [
      {
       "html": [
        "<div style=\"max-height:1000px;max-width:1500px;overflow:auto;\">\n",
        "<table border=\"1\" class=\"dataframe\">\n",
        "  <thead>\n",
        "    <tr style=\"text-align: right;\">\n",
        "      <th></th>\n",
        "      <th>Lsoa11</th>\n",
        "      <th>0-15</th>\n",
        "      <th>16-29</th>\n",
        "      <th>30-44</th>\n",
        "      <th>45-64</th>\n",
        "      <th>65+</th>\n",
        "    </tr>\n",
        "  </thead>\n",
        "  <tbody>\n",
        "    <tr>\n",
        "      <th>0</th>\n",
        "      <td> E01000907</td>\n",
        "      <td> 295</td>\n",
        "      <td> 257</td>\n",
        "      <td> 372</td>\n",
        "      <td> 343</td>\n",
        "      <td> 163</td>\n",
        "    </tr>\n",
        "    <tr>\n",
        "      <th>1</th>\n",
        "      <td> E01000908</td>\n",
        "      <td> 292</td>\n",
        "      <td> 240</td>\n",
        "      <td> 431</td>\n",
        "      <td> 407</td>\n",
        "      <td> 211</td>\n",
        "    </tr>\n",
        "    <tr>\n",
        "      <th>2</th>\n",
        "      <td> E01000909</td>\n",
        "      <td> 244</td>\n",
        "      <td> 291</td>\n",
        "      <td> 328</td>\n",
        "      <td> 462</td>\n",
        "      <td> 289</td>\n",
        "    </tr>\n",
        "    <tr>\n",
        "      <th>3</th>\n",
        "      <td> E01000912</td>\n",
        "      <td> 260</td>\n",
        "      <td> 356</td>\n",
        "      <td> 352</td>\n",
        "      <td> 395</td>\n",
        "      <td> 226</td>\n",
        "    </tr>\n",
        "    <tr>\n",
        "      <th>4</th>\n",
        "      <td> E01000913</td>\n",
        "      <td> 292</td>\n",
        "      <td> 220</td>\n",
        "      <td> 343</td>\n",
        "      <td> 522</td>\n",
        "      <td> 333</td>\n",
        "    </tr>\n",
        "  </tbody>\n",
        "</table>\n",
        "<p>5 rows \u00d7 6 columns</p>\n",
        "</div>"
       ],
       "metadata": {},
       "output_type": "pyout",
       "prompt_number": 497,
       "text": [
        "      Lsoa11  0-15  16-29  30-44  45-64  65+\n",
        "0  E01000907   295    257    372    343  163\n",
        "1  E01000908   292    240    431    407  211\n",
        "2  E01000909   244    291    328    462  289\n",
        "3  E01000912   260    356    352    395  226\n",
        "4  E01000913   292    220    343    522  333\n",
        "\n",
        "[5 rows x 6 columns]"
       ]
      }
     ],
     "prompt_number": 497
    },
    {
     "cell_type": "code",
     "collapsed": false,
     "input": [
      "ages = list(censusAge.columns[1:])\n",
      "avgAges = censusAge[ ages].mean().values"
     ],
     "language": "python",
     "metadata": {},
     "outputs": [],
     "prompt_number": 505
    },
    {
     "cell_type": "code",
     "collapsed": false,
     "input": [
      "def saySomethingAge(row):\n",
      "    lsoaAvg = row[ ages ]\n",
      "    dif = listDif(avgAges, lsoaAvg)\n",
      "    absDif = map(abs,dif)\n",
      "    biggestDif = max(absDif)\n",
      "    posBiggestDif = absDif.index(biggestDif)\n",
      "    if dif[posBiggestDif] < 0:\n",
      "        return \"The area has less residents in the age range {0} than london average\".format(ages[posBiggestDif])        \n",
      "    else:\n",
      "        return \"The area has more residents in the age range {0} than london average\".format(ages[posBiggestDif]) "
     ],
     "language": "python",
     "metadata": {},
     "outputs": [],
     "prompt_number": 508
    },
    {
     "cell_type": "code",
     "collapsed": false,
     "input": [
      "lsoaAvg"
     ],
     "language": "python",
     "metadata": {},
     "outputs": [
      {
       "metadata": {},
       "output_type": "pyout",
       "prompt_number": 507,
       "text": [
        "[[u'0-15', u'16-29', u'30-44', u'45-64', u'65+']]"
       ]
      }
     ],
     "prompt_number": 507
    },
    {
     "cell_type": "code",
     "collapsed": false,
     "input": [
      "censusAge[\"DescibeAge\"] = censusAge.apply(saySomethingAge, axis=1)"
     ],
     "language": "python",
     "metadata": {},
     "outputs": [],
     "prompt_number": 509
    },
    {
     "cell_type": "code",
     "collapsed": false,
     "input": [
      "pcAge = pd.merge(pc[ [\"Postcode\", \"Lsoa11\"] ], censusAge, left_on=\"Lsoa11\", right_on=\"Lsoa11\", how=\"left\")[ [\"Postcode\", \"DescibeAge\"]]"
     ],
     "language": "python",
     "metadata": {},
     "outputs": [],
     "prompt_number": 511
    },
    {
     "cell_type": "code",
     "collapsed": false,
     "input": [
      "censusHouse = pd.read_excel(censusDirectory + \"censusData.xls\", \"householdType\")\n",
      "censusHouse.rename(columns={\"Codes\":\"Lsoa11\"},inplace=True)\n",
      "censusHouse = censusHouse[ censusHouse[\"Lsoa11\"].isin(hp[\"Lsoa11\"].values) ]\n",
      "censusHouse.head()"
     ],
     "language": "python",
     "metadata": {},
     "outputs": [
      {
       "html": [
        "<div style=\"max-height:1000px;max-width:1500px;overflow:auto;\">\n",
        "<table border=\"1\" class=\"dataframe\">\n",
        "  <thead>\n",
        "    <tr style=\"text-align: right;\">\n",
        "      <th></th>\n",
        "      <th>Lsoa11</th>\n",
        "      <th>Couple household with dependent children</th>\n",
        "      <th>Couple household without dependent children</th>\n",
        "      <th>Lone parent household</th>\n",
        "      <th>One person household</th>\n",
        "      <th>Other multi person household</th>\n",
        "    </tr>\n",
        "  </thead>\n",
        "  <tbody>\n",
        "    <tr>\n",
        "      <th>0</th>\n",
        "      <td> E01000907</td>\n",
        "      <td> 12.280702</td>\n",
        "      <td> 20.095694</td>\n",
        "      <td> 21.052632</td>\n",
        "      <td> 33.014354</td>\n",
        "      <td> 13.556619</td>\n",
        "    </tr>\n",
        "    <tr>\n",
        "      <th>1</th>\n",
        "      <td> E01000908</td>\n",
        "      <td> 11.608222</td>\n",
        "      <td> 17.291415</td>\n",
        "      <td> 13.180169</td>\n",
        "      <td> 50.785973</td>\n",
        "      <td>  7.134220</td>\n",
        "    </tr>\n",
        "    <tr>\n",
        "      <th>2</th>\n",
        "      <td> E01000909</td>\n",
        "      <td> 17.851740</td>\n",
        "      <td> 29.349470</td>\n",
        "      <td>  7.261725</td>\n",
        "      <td> 30.105900</td>\n",
        "      <td> 15.431165</td>\n",
        "    </tr>\n",
        "    <tr>\n",
        "      <th>3</th>\n",
        "      <td> E01000912</td>\n",
        "      <td> 12.857143</td>\n",
        "      <td> 16.571429</td>\n",
        "      <td> 15.714286</td>\n",
        "      <td> 38.571429</td>\n",
        "      <td> 16.285714</td>\n",
        "    </tr>\n",
        "    <tr>\n",
        "      <th>4</th>\n",
        "      <td> E01000913</td>\n",
        "      <td> 19.252078</td>\n",
        "      <td> 34.626039</td>\n",
        "      <td>  3.739612</td>\n",
        "      <td> 29.085873</td>\n",
        "      <td> 13.296399</td>\n",
        "    </tr>\n",
        "  </tbody>\n",
        "</table>\n",
        "<p>5 rows \u00d7 6 columns</p>\n",
        "</div>"
       ],
       "metadata": {},
       "output_type": "pyout",
       "prompt_number": 521,
       "text": [
        "      Lsoa11  Couple household with dependent children  \\\n",
        "0  E01000907                                 12.280702   \n",
        "1  E01000908                                 11.608222   \n",
        "2  E01000909                                 17.851740   \n",
        "3  E01000912                                 12.857143   \n",
        "4  E01000913                                 19.252078   \n",
        "\n",
        "   Couple household without dependent children  Lone parent household  \\\n",
        "0                                    20.095694              21.052632   \n",
        "1                                    17.291415              13.180169   \n",
        "2                                    29.349470               7.261725   \n",
        "3                                    16.571429              15.714286   \n",
        "4                                    34.626039               3.739612   \n",
        "\n",
        "   One person household  Other multi person household  \n",
        "0             33.014354                     13.556619  \n",
        "1             50.785973                      7.134220  \n",
        "2             30.105900                     15.431165  \n",
        "3             38.571429                     16.285714  \n",
        "4             29.085873                     13.296399  \n",
        "\n",
        "[5 rows x 6 columns]"
       ]
      }
     ],
     "prompt_number": 521
    },
    {
     "cell_type": "code",
     "collapsed": false,
     "input": [
      "householdTypes = list(censusHouse.columns[1:])\n",
      "avgHousehold = censusHouse[householdTypes].mean().values\n",
      "householdTypes"
     ],
     "language": "python",
     "metadata": {},
     "outputs": [
      {
       "metadata": {},
       "output_type": "pyout",
       "prompt_number": 537,
       "text": [
        "[u'Couple household with dependent children',\n",
        " u'Couple household without dependent children',\n",
        " u'Lone parent household',\n",
        " u'One person household',\n",
        " u'Other multi person household',\n",
        " 'DescibeAge',\n",
        " 'DescibeHousehold']"
       ]
      }
     ],
     "prompt_number": 537
    },
    {
     "cell_type": "code",
     "collapsed": false,
     "input": [
      "hht2 = [\"Couples with dependent children\",\n",
      "        \"Couples without dependent children\",\n",
      "        \"Lone Parents Households\",\n",
      "        \"One Person Households\",\n",
      "        \"Other multiperson households\"]"
     ],
     "language": "python",
     "metadata": {},
     "outputs": [],
     "prompt_number": 539
    },
    {
     "cell_type": "code",
     "collapsed": false,
     "input": [
      "def saySomethingHousehold(row):\n",
      "    lsoaAvg = row[ householdTypes ]\n",
      "    dif = listDif(avgHousehold, lsoaAvg)\n",
      "    absDif = map(abs,dif)\n",
      "    biggestDif = max(absDif)\n",
      "    posBiggestDif = absDif.index(biggestDif)\n",
      "    if dif[posBiggestDif] < 0:\n",
      "        return \"Compared to average, there are more {0}\".format(hht2[posBiggestDif])        \n",
      "    else:\n",
      "        return \"Compared to average, there are less {0}\".format(hht2[posBiggestDif])"
     ],
     "language": "python",
     "metadata": {},
     "outputs": [],
     "prompt_number": 540
    },
    {
     "cell_type": "code",
     "collapsed": false,
     "input": [
      "censusHouse[\"DescibeHousehold\"] = censusHouse.apply(saySomethingHousehold, axis=1)"
     ],
     "language": "python",
     "metadata": {},
     "outputs": [],
     "prompt_number": 541
    },
    {
     "cell_type": "code",
     "collapsed": false,
     "input": [
      "pcHouse = pd.merge(pc[ [\"Postcode\", \"Lsoa11\"] ], censusHouse, left_on=\"Lsoa11\", right_on=\"Lsoa11\", how=\"left\")[ [\"Postcode\", \"DescibeHousehold\"]]"
     ],
     "language": "python",
     "metadata": {},
     "outputs": [],
     "prompt_number": 542
    },
    {
     "cell_type": "markdown",
     "metadata": {},
     "source": [
      "summary:\n",
      "===========\n",
      "- priceByPC\n",
      "- incByPc\n",
      "- pcByCrimeType\n",
      "- pcCrimeCount\n",
      "- pcIncome\n",
      "- pcAge"
     ]
    },
    {
     "cell_type": "code",
     "collapsed": false,
     "input": [
      "#Quick convert\n",
      "incByPc = incByPc[[\"Postcode\", \"DescribeIncrease\"]]"
     ],
     "language": "python",
     "metadata": {},
     "outputs": [],
     "prompt_number": 469
    },
    {
     "cell_type": "code",
     "collapsed": false,
     "input": [
      "#Merge it all\n",
      "fullTable = priceByPC\n",
      "fullTable = pd.merge(fullTable, incByPc, left_on=\"Postcode\", right_on=\"Postcode\", how=\"left\")\n",
      "#fullTable = pd.merge(fullTable, pcByCrimeType, left_on=\"Postcode\", right_on=\"Postcode\", how=\"left\")\n",
      "fullTable = pd.merge(fullTable, pcCrimeCount, left_on=\"Postcode\", right_on=\"Postcode\", how=\"left\")\n",
      "fullTable = pd.merge(fullTable, pcIncome, left_on=\"Postcode\", right_on=\"Postcode\", how=\"left\")\n",
      "fullTable = pd.merge(fullTable, pcAge, left_on=\"Postcode\", right_on=\"Postcode\", how=\"left\")\n",
      "fullTable = pd.merge(fullTable, pcHouse, left_on=\"Postcode\", right_on=\"Postcode\", how=\"left\")"
     ],
     "language": "python",
     "metadata": {},
     "outputs": [],
     "prompt_number": 543
    },
    {
     "cell_type": "code",
     "collapsed": false,
     "input": [
      "fullTable.head()"
     ],
     "language": "python",
     "metadata": {},
     "outputs": [
      {
       "html": [
        "<div style=\"max-height:1000px;max-width:1500px;overflow:auto;\">\n",
        "<table border=\"1\" class=\"dataframe\">\n",
        "  <thead>\n",
        "    <tr style=\"text-align: right;\">\n",
        "      <th></th>\n",
        "      <th>Postcode</th>\n",
        "      <th>price</th>\n",
        "      <th>describePrice</th>\n",
        "      <th>DescribeIncrease</th>\n",
        "      <th>crimeCountDescription</th>\n",
        "      <th>IncomeDescription</th>\n",
        "      <th>DescibeAge</th>\n",
        "      <th>DescibeHousehold</th>\n",
        "    </tr>\n",
        "  </thead>\n",
        "  <tbody>\n",
        "    <tr>\n",
        "      <th>0</th>\n",
        "      <td> BR11AA</td>\n",
        "      <td> The median houseprice in this area is \u00a3216000.</td>\n",
        "      <td> This price is 27% below london average</td>\n",
        "      <td> Last year this changed by -1%, below london av...</td>\n",
        "      <td> This area has higher total reported crime than...</td>\n",
        "      <td> Average household income here is \u00a332479, about...</td>\n",
        "      <td> The area has less residents in the age range 3...</td>\n",
        "      <td> Compared to average, there are more One Person...</td>\n",
        "    </tr>\n",
        "    <tr>\n",
        "      <th>1</th>\n",
        "      <td> BR11AB</td>\n",
        "      <td> The median houseprice in this area is \u00a3216000.</td>\n",
        "      <td> This price is 27% below london average</td>\n",
        "      <td> Last year this changed by -1%, below london av...</td>\n",
        "      <td> This area has higher total reported crime than...</td>\n",
        "      <td> Average household income here is \u00a332479, about...</td>\n",
        "      <td> The area has less residents in the age range 3...</td>\n",
        "      <td> Compared to average, there are more One Person...</td>\n",
        "    </tr>\n",
        "    <tr>\n",
        "      <th>2</th>\n",
        "      <td> BR11AE</td>\n",
        "      <td> The median houseprice in this area is \u00a3270000.</td>\n",
        "      <td>  This price is 9% below london average</td>\n",
        "      <td> Last year this changed by -7%, below london av...</td>\n",
        "      <td> This area has higher total reported crime than...</td>\n",
        "      <td> Average household income here is \u00a338614, about...</td>\n",
        "      <td> The area has less residents in the age range 3...</td>\n",
        "      <td> Compared to average, there are less Other mult...</td>\n",
        "    </tr>\n",
        "    <tr>\n",
        "      <th>3</th>\n",
        "      <td> BR11AX</td>\n",
        "      <td> The median houseprice in this area is \u00a3216000.</td>\n",
        "      <td> This price is 27% below london average</td>\n",
        "      <td> Last year this changed by -1%, below london av...</td>\n",
        "      <td> This area has higher total reported crime than...</td>\n",
        "      <td> Average household income here is \u00a332479, about...</td>\n",
        "      <td> The area has less residents in the age range 3...</td>\n",
        "      <td> Compared to average, there are more One Person...</td>\n",
        "    </tr>\n",
        "    <tr>\n",
        "      <th>4</th>\n",
        "      <td> BR11BA</td>\n",
        "      <td> The median houseprice in this area is \u00a3327000.</td>\n",
        "      <td>  This price is 9% above london average</td>\n",
        "      <td> Last year this changed by -7%, below london av...</td>\n",
        "      <td> This area has lower total reported crime than ...</td>\n",
        "      <td> Average household income here is \u00a350462, above...</td>\n",
        "      <td> The area has less residents in the age range 4...</td>\n",
        "      <td> Compared to average, there are less Other mult...</td>\n",
        "    </tr>\n",
        "  </tbody>\n",
        "</table>\n",
        "<p>5 rows \u00d7 8 columns</p>\n",
        "</div>"
       ],
       "metadata": {},
       "output_type": "pyout",
       "prompt_number": 544,
       "text": [
        "  Postcode                                           price  \\\n",
        "0   BR11AA  The median houseprice in this area is \u00a3216000.   \n",
        "1   BR11AB  The median houseprice in this area is \u00a3216000.   \n",
        "2   BR11AE  The median houseprice in this area is \u00a3270000.   \n",
        "3   BR11AX  The median houseprice in this area is \u00a3216000.   \n",
        "4   BR11BA  The median houseprice in this area is \u00a3327000.   \n",
        "\n",
        "                            describePrice  \\\n",
        "0  This price is 27% below london average   \n",
        "1  This price is 27% below london average   \n",
        "2   This price is 9% below london average   \n",
        "3  This price is 27% below london average   \n",
        "4   This price is 9% above london average   \n",
        "\n",
        "                                    DescribeIncrease  \\\n",
        "0  Last year this changed by -1%, below london av...   \n",
        "1  Last year this changed by -1%, below london av...   \n",
        "2  Last year this changed by -7%, below london av...   \n",
        "3  Last year this changed by -1%, below london av...   \n",
        "4  Last year this changed by -7%, below london av...   \n",
        "\n",
        "                               crimeCountDescription  \\\n",
        "0  This area has higher total reported crime than...   \n",
        "1  This area has higher total reported crime than...   \n",
        "2  This area has higher total reported crime than...   \n",
        "3  This area has higher total reported crime than...   \n",
        "4  This area has lower total reported crime than ...   \n",
        "\n",
        "                                   IncomeDescription  \\\n",
        "0  Average household income here is \u00a332479, about...   \n",
        "1  Average household income here is \u00a332479, about...   \n",
        "2  Average household income here is \u00a338614, about...   \n",
        "3  Average household income here is \u00a332479, about...   \n",
        "4  Average household income here is \u00a350462, above...   \n",
        "\n",
        "                                          DescibeAge  \\\n",
        "0  The area has less residents in the age range 3...   \n",
        "1  The area has less residents in the age range 3...   \n",
        "2  The area has less residents in the age range 3...   \n",
        "3  The area has less residents in the age range 3...   \n",
        "4  The area has less residents in the age range 4...   \n",
        "\n",
        "                                    DescibeHousehold  \n",
        "0  Compared to average, there are more One Person...  \n",
        "1  Compared to average, there are more One Person...  \n",
        "2  Compared to average, there are less Other mult...  \n",
        "3  Compared to average, there are more One Person...  \n",
        "4  Compared to average, there are less Other mult...  \n",
        "\n",
        "[5 rows x 8 columns]"
       ]
      }
     ],
     "prompt_number": 544
    },
    {
     "cell_type": "code",
     "collapsed": false,
     "input": [
      "max(fullTable[\"DescibeHousehold\"].apply(len))"
     ],
     "language": "python",
     "metadata": {},
     "outputs": [
      {
       "metadata": {},
       "output_type": "pyout",
       "prompt_number": 545,
       "text": [
        "70"
       ]
      }
     ],
     "prompt_number": 545
    },
    {
     "cell_type": "code",
     "collapsed": false,
     "input": [
      "print fullTable.iloc[10000][\"DescibeHousehold\"]"
     ],
     "language": "python",
     "metadata": {},
     "outputs": [
      {
       "output_type": "stream",
       "stream": "stdout",
       "text": [
        "Compared to average, there are less Couples with dependent children\n"
       ]
      }
     ],
     "prompt_number": 546
    },
    {
     "cell_type": "code",
     "collapsed": false,
     "input": [
      "#Dump in mysql database~\n",
      "from pandas.io import sql\n",
      "import MySQLdb\n",
      "\n",
      "db = MySQLdb.connect(\"localhost\",\"testUser\",\"theWord\",\"londonData\")\n",
      "cursor = db.cursor()\n",
      "\n",
      "#cursor.execute(\"DROP TABLE IF EXISTS Houseprices\")\n",
      "\n",
      "#cursor.execute(testSQL)\n",
      "\n",
      "sql.write_frame(fullTable, con=db, name='fullTable', flavor='mysql',if_exists=\"replace\")\n",
      "\n",
      "db.close()"
     ],
     "language": "python",
     "metadata": {},
     "outputs": [],
     "prompt_number": 548
    },
    {
     "cell_type": "code",
     "collapsed": false,
     "input": [
      "fullTable.to_csv(\"/home/ijmbarr/Documents/DATA/SummerContest/SDC/fullTable.csv\")"
     ],
     "language": "python",
     "metadata": {},
     "outputs": [],
     "prompt_number": 549
    },
    {
     "cell_type": "code",
     "collapsed": false,
     "input": [],
     "language": "python",
     "metadata": {},
     "outputs": []
    }
   ],
   "metadata": {}
  }
 ]
}