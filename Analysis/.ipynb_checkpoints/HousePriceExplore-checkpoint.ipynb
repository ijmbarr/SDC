{
 "metadata": {
  "name": ""
 },
 "nbformat": 3,
 "nbformat_minor": 0,
 "worksheets": [
  {
   "cells": [
    {
     "cell_type": "code",
     "collapsed": false,
     "input": [
      "import numpy as np\n",
      "import pandas as pd\n",
      "import matplotlib.pyplot as plt\n",
      "%matplotlib inline"
     ],
     "language": "python",
     "metadata": {},
     "outputs": [],
     "prompt_number": 1
    },
    {
     "cell_type": "code",
     "collapsed": false,
     "input": [
      "mapDirectory = \"../Data/Map/\"\n",
      "hpDirectory = \"../Data/HousePriceData/\""
     ],
     "language": "python",
     "metadata": {},
     "outputs": [],
     "prompt_number": 2
    },
    {
     "cell_type": "code",
     "collapsed": false,
     "input": [
      "hp = pd.read_csv(hpDirectory + \"HousePriceReduced.csv\")\n",
      "del hp[\"Unnamed: 0\"]"
     ],
     "language": "python",
     "metadata": {},
     "outputs": [],
     "prompt_number": 6
    },
    {
     "cell_type": "code",
     "collapsed": false,
     "input": [
      "hp.head()"
     ],
     "language": "python",
     "metadata": {},
     "outputs": [
      {
       "html": [
        "<div style=\"max-height:1000px;max-width:1500px;overflow:auto;\">\n",
        "<table border=\"1\" class=\"dataframe\">\n",
        "  <thead>\n",
        "    <tr style=\"text-align: right;\">\n",
        "      <th></th>\n",
        "      <th>Price</th>\n",
        "      <th>Postcode</th>\n",
        "      <th>Property_Type</th>\n",
        "      <th>Newbuild</th>\n",
        "      <th>Freeorlease</th>\n",
        "      <th>Month</th>\n",
        "      <th>Latitude</th>\n",
        "      <th>Longitude</th>\n",
        "      <th>Ward</th>\n",
        "      <th>Lsoa11</th>\n",
        "      <th>Msoa11</th>\n",
        "    </tr>\n",
        "  </thead>\n",
        "  <tbody>\n",
        "    <tr>\n",
        "      <th>0</th>\n",
        "      <td> 150000</td>\n",
        "      <td> SM51EQ</td>\n",
        "      <td> T</td>\n",
        "      <td> N</td>\n",
        "      <td> F</td>\n",
        "      <td> 2009-03-01 00:00:00</td>\n",
        "      <td> 51.39036</td>\n",
        "      <td>-0.174347</td>\n",
        "      <td> E05000571</td>\n",
        "      <td> E01004189</td>\n",
        "      <td> E02000840</td>\n",
        "    </tr>\n",
        "    <tr>\n",
        "      <th>1</th>\n",
        "      <td> 195000</td>\n",
        "      <td> SM51EQ</td>\n",
        "      <td> T</td>\n",
        "      <td> N</td>\n",
        "      <td> F</td>\n",
        "      <td> 2010-08-01 00:00:00</td>\n",
        "      <td> 51.39036</td>\n",
        "      <td>-0.174347</td>\n",
        "      <td> E05000571</td>\n",
        "      <td> E01004189</td>\n",
        "      <td> E02000840</td>\n",
        "    </tr>\n",
        "    <tr>\n",
        "      <th>2</th>\n",
        "      <td> 227000</td>\n",
        "      <td> CR28PX</td>\n",
        "      <td> S</td>\n",
        "      <td> N</td>\n",
        "      <td> F</td>\n",
        "      <td> 2009-08-01 00:00:00</td>\n",
        "      <td> 51.34276</td>\n",
        "      <td>-0.051464</td>\n",
        "      <td> E05000162</td>\n",
        "      <td> E01001119</td>\n",
        "      <td> E02000227</td>\n",
        "    </tr>\n",
        "    <tr>\n",
        "      <th>3</th>\n",
        "      <td> 230000</td>\n",
        "      <td> CR28PX</td>\n",
        "      <td> S</td>\n",
        "      <td> N</td>\n",
        "      <td> F</td>\n",
        "      <td> 2009-07-01 00:00:00</td>\n",
        "      <td> 51.34276</td>\n",
        "      <td>-0.051464</td>\n",
        "      <td> E05000162</td>\n",
        "      <td> E01001119</td>\n",
        "      <td> E02000227</td>\n",
        "    </tr>\n",
        "    <tr>\n",
        "      <th>4</th>\n",
        "      <td> 222000</td>\n",
        "      <td> CR28PX</td>\n",
        "      <td> S</td>\n",
        "      <td> N</td>\n",
        "      <td> F</td>\n",
        "      <td> 2009-12-01 00:00:00</td>\n",
        "      <td> 51.34276</td>\n",
        "      <td>-0.051464</td>\n",
        "      <td> E05000162</td>\n",
        "      <td> E01001119</td>\n",
        "      <td> E02000227</td>\n",
        "    </tr>\n",
        "  </tbody>\n",
        "</table>\n",
        "<p>5 rows \u00d7 11 columns</p>\n",
        "</div>"
       ],
       "metadata": {},
       "output_type": "pyout",
       "prompt_number": 7,
       "text": [
        "    Price Postcode Property_Type Newbuild Freeorlease                Month  \\\n",
        "0  150000   SM51EQ             T        N           F  2009-03-01 00:00:00   \n",
        "1  195000   SM51EQ             T        N           F  2010-08-01 00:00:00   \n",
        "2  227000   CR28PX             S        N           F  2009-08-01 00:00:00   \n",
        "3  230000   CR28PX             S        N           F  2009-07-01 00:00:00   \n",
        "4  222000   CR28PX             S        N           F  2009-12-01 00:00:00   \n",
        "\n",
        "   Latitude  Longitude       Ward     Lsoa11     Msoa11  \n",
        "0  51.39036  -0.174347  E05000571  E01004189  E02000840  \n",
        "1  51.39036  -0.174347  E05000571  E01004189  E02000840  \n",
        "2  51.34276  -0.051464  E05000162  E01001119  E02000227  \n",
        "3  51.34276  -0.051464  E05000162  E01001119  E02000227  \n",
        "4  51.34276  -0.051464  E05000162  E01001119  E02000227  \n",
        "\n",
        "[5 rows x 11 columns]"
       ]
      }
     ],
     "prompt_number": 7
    },
    {
     "cell_type": "markdown",
     "metadata": {},
     "source": [
      "Exploring the House Price Data\n",
      "==============================\n",
      "\n",
      "Stuff."
     ]
    }
   ],
   "metadata": {}
  }
 ]
}