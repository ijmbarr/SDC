{
 "metadata": {
  "name": ""
 },
 "nbformat": 3,
 "nbformat_minor": 0,
 "worksheets": [
  {
   "cells": [
    {
     "cell_type": "code",
     "collapsed": false,
     "input": [
      "import numpy as np\n",
      "import pandas as pd\n",
      "import matplotlib.pyplot as plt\n",
      "import matplotlib as mpl\n",
      "import json\n",
      "%matplotlib inline"
     ],
     "language": "python",
     "metadata": {},
     "outputs": [],
     "prompt_number": 1
    },
    {
     "cell_type": "code",
     "collapsed": false,
     "input": [
      "mapDirectory = \"../Data/MapData/\"\n",
      "hpDirectory = \"../Data/HousePriceData/\"\n",
      "pcDirectory = \"../Data/PostCodeData/\""
     ],
     "language": "python",
     "metadata": {},
     "outputs": [],
     "prompt_number": 2
    },
    {
     "cell_type": "code",
     "collapsed": false,
     "input": [
      "hp = pd.read_csv(hpDirectory + \"HousePriceReduced.csv\")\n",
      "del hp[\"Unnamed: 0\"]\n",
      "\n",
      "hp[\"y\"] = hp[\"Latitude\"]\n",
      "hp[\"x\"] = np.cos(np.radians(hp[\"Latitude\"]))*hp[\"Longitude\"]\n",
      "\n",
      "pc = pd.read_csv(pcDirectory + \"postCodes.csv\")"
     ],
     "language": "python",
     "metadata": {},
     "outputs": [],
     "prompt_number": 19
    },
    {
     "cell_type": "code",
     "collapsed": false,
     "input": [
      "hp.head()"
     ],
     "language": "python",
     "metadata": {},
     "outputs": [
      {
       "html": [
        "<div style=\"max-height:1000px;max-width:1500px;overflow:auto;\">\n",
        "<table border=\"1\" class=\"dataframe\">\n",
        "  <thead>\n",
        "    <tr style=\"text-align: right;\">\n",
        "      <th></th>\n",
        "      <th>Price</th>\n",
        "      <th>Postcode</th>\n",
        "      <th>Property_Type</th>\n",
        "      <th>Newbuild</th>\n",
        "      <th>Freeorlease</th>\n",
        "      <th>Month</th>\n",
        "      <th>Latitude</th>\n",
        "      <th>Longitude</th>\n",
        "      <th>Ward</th>\n",
        "      <th>Lsoa11</th>\n",
        "      <th>Msoa11</th>\n",
        "      <th>y</th>\n",
        "      <th>x</th>\n",
        "    </tr>\n",
        "  </thead>\n",
        "  <tbody>\n",
        "    <tr>\n",
        "      <th>0</th>\n",
        "      <td> 150000</td>\n",
        "      <td> SM51EQ</td>\n",
        "      <td> T</td>\n",
        "      <td> N</td>\n",
        "      <td> F</td>\n",
        "      <td> 2009-03-01 00:00:00</td>\n",
        "      <td> 51.39036</td>\n",
        "      <td>-0.174347</td>\n",
        "      <td> E05000571</td>\n",
        "      <td> E01004189</td>\n",
        "      <td> E02000840</td>\n",
        "      <td> 51.39036</td>\n",
        "      <td>-0.108794</td>\n",
        "    </tr>\n",
        "    <tr>\n",
        "      <th>1</th>\n",
        "      <td> 195000</td>\n",
        "      <td> SM51EQ</td>\n",
        "      <td> T</td>\n",
        "      <td> N</td>\n",
        "      <td> F</td>\n",
        "      <td> 2010-08-01 00:00:00</td>\n",
        "      <td> 51.39036</td>\n",
        "      <td>-0.174347</td>\n",
        "      <td> E05000571</td>\n",
        "      <td> E01004189</td>\n",
        "      <td> E02000840</td>\n",
        "      <td> 51.39036</td>\n",
        "      <td>-0.108794</td>\n",
        "    </tr>\n",
        "    <tr>\n",
        "      <th>2</th>\n",
        "      <td> 227000</td>\n",
        "      <td> CR28PX</td>\n",
        "      <td> S</td>\n",
        "      <td> N</td>\n",
        "      <td> F</td>\n",
        "      <td> 2009-08-01 00:00:00</td>\n",
        "      <td> 51.34276</td>\n",
        "      <td>-0.051464</td>\n",
        "      <td> E05000162</td>\n",
        "      <td> E01001119</td>\n",
        "      <td> E02000227</td>\n",
        "      <td> 51.34276</td>\n",
        "      <td>-0.032147</td>\n",
        "    </tr>\n",
        "    <tr>\n",
        "      <th>3</th>\n",
        "      <td> 230000</td>\n",
        "      <td> CR28PX</td>\n",
        "      <td> S</td>\n",
        "      <td> N</td>\n",
        "      <td> F</td>\n",
        "      <td> 2009-07-01 00:00:00</td>\n",
        "      <td> 51.34276</td>\n",
        "      <td>-0.051464</td>\n",
        "      <td> E05000162</td>\n",
        "      <td> E01001119</td>\n",
        "      <td> E02000227</td>\n",
        "      <td> 51.34276</td>\n",
        "      <td>-0.032147</td>\n",
        "    </tr>\n",
        "    <tr>\n",
        "      <th>4</th>\n",
        "      <td> 222000</td>\n",
        "      <td> CR28PX</td>\n",
        "      <td> S</td>\n",
        "      <td> N</td>\n",
        "      <td> F</td>\n",
        "      <td> 2009-12-01 00:00:00</td>\n",
        "      <td> 51.34276</td>\n",
        "      <td>-0.051464</td>\n",
        "      <td> E05000162</td>\n",
        "      <td> E01001119</td>\n",
        "      <td> E02000227</td>\n",
        "      <td> 51.34276</td>\n",
        "      <td>-0.032147</td>\n",
        "    </tr>\n",
        "  </tbody>\n",
        "</table>\n",
        "<p>5 rows \u00d7 13 columns</p>\n",
        "</div>"
       ],
       "metadata": {},
       "output_type": "pyout",
       "prompt_number": 20,
       "text": [
        "    Price Postcode Property_Type Newbuild Freeorlease                Month  \\\n",
        "0  150000   SM51EQ             T        N           F  2009-03-01 00:00:00   \n",
        "1  195000   SM51EQ             T        N           F  2010-08-01 00:00:00   \n",
        "2  227000   CR28PX             S        N           F  2009-08-01 00:00:00   \n",
        "3  230000   CR28PX             S        N           F  2009-07-01 00:00:00   \n",
        "4  222000   CR28PX             S        N           F  2009-12-01 00:00:00   \n",
        "\n",
        "   Latitude  Longitude       Ward     Lsoa11     Msoa11         y         x  \n",
        "0  51.39036  -0.174347  E05000571  E01004189  E02000840  51.39036 -0.108794  \n",
        "1  51.39036  -0.174347  E05000571  E01004189  E02000840  51.39036 -0.108794  \n",
        "2  51.34276  -0.051464  E05000162  E01001119  E02000227  51.34276 -0.032147  \n",
        "3  51.34276  -0.051464  E05000162  E01001119  E02000227  51.34276 -0.032147  \n",
        "4  51.34276  -0.051464  E05000162  E01001119  E02000227  51.34276 -0.032147  \n",
        "\n",
        "[5 rows x 13 columns]"
       ]
      }
     ],
     "prompt_number": 20
    },
    {
     "cell_type": "code",
     "collapsed": false,
     "input": [
      "gridsize = 25.0\n",
      "\n",
      "xmin = hp[\"x\"].min()\n",
      "xmax = hp[\"x\"].max()\n",
      "ymin = hp[\"y\"].min()\n",
      "ymax = hp[\"y\"].max()\n",
      "\n",
      "dx = (xmax - xmin)/(gridsize - 1)\n",
      "dy = (ymax - ymin)/(gridsize - 1)\n",
      "\n",
      "#Add offset to remove houses sitting on borders\n",
      "xmin -= dx/2.0\n",
      "xmax += dx/2.0\n",
      "ymin -= dy/2.0\n",
      "ymax += dy/2.0"
     ],
     "language": "python",
     "metadata": {},
     "outputs": [],
     "prompt_number": 21
    },
    {
     "cell_type": "code",
     "collapsed": false,
     "input": [
      "def xyToSquare(row):\n",
      "    x = row[\"x\"]\n",
      "    y = row[\"y\"]\n",
      "    sx = np.floor((x - xmin)/dx)\n",
      "    sy = np.floor((y - ymin)/dy)\n",
      "    return sx + sy*gridsize\n",
      "\n",
      "def xyToSquare2(x,y):\n",
      "    sx = np.floor((x - xmin)/dx)\n",
      "    sy = np.floor((y - ymin)/dy)\n",
      "    return sx + sy*gridsize"
     ],
     "language": "python",
     "metadata": {},
     "outputs": [],
     "prompt_number": 35
    },
    {
     "cell_type": "code",
     "collapsed": false,
     "input": [
      "hp[\"square\"] = hp.apply(xyToSquare, axis = 1)"
     ],
     "language": "python",
     "metadata": {},
     "outputs": [],
     "prompt_number": 23
    },
    {
     "cell_type": "code",
     "collapsed": false,
     "input": [
      "#Functions for plotting geojson features\n",
      "from matplotlib.patches import PathPatch\n",
      "from matplotlib.path import Path\n",
      "\n",
      "#codes for creating the polygons\n",
      "pathCodes = [Path.MOVETO, Path.LINETO, Path.CLOSEPOLY]\n",
      "\n",
      "def toCart(coords): \n",
      "    #Converts (long,lat) lists to cartesian co-ordinates, assuming small angle approx\n",
      "    return map( lambda x : [np.cos(np.radians(x[1]))* x[0], x[1]], coords )\n",
      "\n",
      "def drawFeature(feature, color = \"none\", lineW=0.5):\n",
      "    path = []\n",
      "    codes = []\n",
      "    \n",
      "    if feature[\"geometry\"][\"type\"] == \"Polygon\":\n",
      "        path, codes = drawPoly(feature[\"geometry\"][\"coordinates\"])\n",
      "        \n",
      "    elif feature[\"geometry\"][\"type\"] == \"MultiPolygon\":\n",
      "        for f in feature[\"geometry\"][\"coordinates\"]:\n",
      "            temp = drawPoly(f)\n",
      "            path += temp[0]\n",
      "            codes += temp[1]        \n",
      "    else:\n",
      "        path = None\n",
      "        \n",
      "    return PathPatch(Path(path, codes), lw=lineW, fc = color)\n",
      "\n",
      "    \n",
      "def drawPoly(coords):\n",
      "    path = []\n",
      "    codes = []\n",
      "    for f in coords:\n",
      "        path += toCart(f)\n",
      "        codes += [pathCodes[0]] + [pathCodes[1]]*(len(f) - 2) + [pathCodes[2]]\n",
      "    \n",
      "    return (path,codes)"
     ],
     "language": "python",
     "metadata": {},
     "outputs": [],
     "prompt_number": 24
    },
    {
     "cell_type": "code",
     "collapsed": false,
     "input": [
      "# Load Files\n",
      "f = open(mapDirectory + \"LSOA.json\",\"r\")\n",
      "lsoaMap = json.load(f)\n",
      "f.close()\n",
      "\n",
      "f = open(mapDirectory + \"borough.json\",\"r\")\n",
      "boroughMap = json.load(f)\n",
      "f.close()"
     ],
     "language": "python",
     "metadata": {},
     "outputs": [],
     "prompt_number": 25
    },
    {
     "cell_type": "code",
     "collapsed": false,
     "input": [
      "fig, ax = plt.subplots()\n",
      "border = 0.01\n",
      "\n",
      "vals = hp[[\"square\", \"Price\"]].groupby(\"square\").agg(lambda x: np.log10(np.mean(x)))[\"Price\"]\n",
      "\n",
      "#Make a color map:\n",
      "minP = vals.min()\n",
      "maxP = vals.max()\n",
      "cNorm = mpl.colors.Normalize(vmin = minP, vmax = maxP)\n",
      "cm = mpl.cm.ScalarMappable(norm=cNorm, cmap = plt.cm.rainbow)\n",
      "cm._A =[]\n",
      "\n",
      "#Tests the postcode to direction to move function \"saySomething\"\n",
      "tempPC = np.random.choice(postcodes)\n",
      "print saySomething(tempPC)\n",
      "tempx, tempy = getXY(tempPC)\n",
      "ax.scatter(tempx, tempy, c = 'r')\n",
      "\n",
      "for sq in np.unique(hp[\"square\"].values):\n",
      "    x = sq % gridsize\n",
      "    y = (sq - x)/gridsize\n",
      "    col = cm.to_rgba(vals.loc[sq])\n",
      "    patch = mpl.patches.Rectangle((xmin + x*dx, ymin + y*dy), dx, dy, fc=col, lw=0.0, alpha = 0.5)\n",
      "    ax.add_patch(patch)\n",
      "        \n",
      "for x in boroughMap[\"features\"]:\n",
      "    patch = drawFeature(x)\n",
      "    ax.add_patch(patch)\n",
      "    \n",
      "           \n",
      "ax.set_xlim(xmin - border, xmax + border)\n",
      "ax.set_ylim(ymin - border, ymax + border)\n",
      "\n",
      "plt.colorbar(cm)\n",
      "plt.show()"
     ],
     "language": "python",
     "metadata": {},
     "outputs": [
      {
       "output_type": "stream",
       "stream": "stdout",
       "text": [
        "Move East for more expensive houses\n"
       ]
      },
      {
       "metadata": {},
       "output_type": "display_data",
       "png": "[encoded data removed]",
       "text": [
        "<matplotlib.figure.Figure at 0x7f46bedef0d0>"
       ]
      }
     ],
     "prompt_number": 105
    },
    {
     "cell_type": "code",
     "collapsed": false,
     "input": [
      "squares = np.unique(hp[\"square\"].values)\n",
      "len(squares)"
     ],
     "language": "python",
     "metadata": {},
     "outputs": [
      {
       "metadata": {},
       "output_type": "pyout",
       "prompt_number": 27,
       "text": [
        "408"
       ]
      }
     ],
     "prompt_number": 27
    },
    {
     "cell_type": "markdown",
     "metadata": {},
     "source": [
      "Now that we've done this, it should be possible to take in a postcode, find the square it belongs to, then find how that price compares to other squares."
     ]
    },
    {
     "cell_type": "code",
     "collapsed": false,
     "input": [
      "postcodes = pc[\"Postcode\"].values"
     ],
     "language": "python",
     "metadata": {},
     "outputs": [],
     "prompt_number": 50
    },
    {
     "cell_type": "code",
     "collapsed": false,
     "input": [
      "hpBySq = hp.groupby(\"square\").median()[\"Price\"]\n",
      "hpBySq.loc[11]"
     ],
     "language": "python",
     "metadata": {},
     "outputs": [
      {
       "metadata": {},
       "output_type": "pyout",
       "prompt_number": 81,
       "text": [
        "225000"
       ]
      }
     ],
     "prompt_number": 81
    },
    {
     "cell_type": "code",
     "collapsed": false,
     "input": [
      "def getXY(postCode):\n",
      "    pcdata = pc[pc[\"Postcode\"] == postCode.upper()]\n",
      "    lat, lon = pcdata[\"Latitude\"].values[0], pcdata[\"Longitude\"].values[0]\n",
      "    x, y = np.cos(np.radians(lat))*lon, lat\n",
      "    return x,y\n",
      "\n",
      "def getSquare(postCode):\n",
      "    x,y = getXY(postCode)\n",
      "    sq = int(xyToSquare2(x,y))\n",
      "    return sq\n",
      "\n",
      "def getSquareWrapper(row):\n",
      "    postCode = row[\"Postcode\"]\n",
      "    return getSquare(postCode)\n",
      "\n",
      "def neighbours(square):\n",
      "    return [square-1, square+1, square+gridsize, square-gridsize]\n",
      "\n",
      "directions = [\"West\", \"East\", \"North\", \"South\"]\n",
      "\n",
      "def getPrice(square):\n",
      "    if square in squares:\n",
      "        return hpBySq.loc[square]\n",
      "    else:\n",
      "        return -1\n",
      "\n",
      "def parseNoSquare(p,c):\n",
      "    if p < 0:\n",
      "        return 0\n",
      "    else:\n",
      "        return p - c\n",
      "    \n",
      "def saySomething(postCode):\n",
      "    currSq = getSquare(postCode)\n",
      "    nearbySq = neighbours(currSq)\n",
      "    currentPrice = getPrice(currSq)\n",
      "    if currentPrice < 0:\n",
      "        return \"Not in map\"\n",
      "    nearbyPrice = map(getPrice, nearbySq)\n",
      "    diff = [parseNoSquare(p,currentPrice) for p in nearbyPrice]\n",
      "    absDiff = map(abs,diff)\n",
      "    absBigDiff = max(absDiff)\n",
      "    posBigDiff = absDiff.index(absBigDiff)\n",
      "    if diff[posBigDiff] > 0:\n",
      "        return \"Move {0} for more expensive houses\".format(directions[posBigDiff])\n",
      "    else:\n",
      "        return \"Move {0} for less expensive houses\".format(directions[posBigDiff])\n",
      "    \n",
      "def saySomethingWrapper(row):\n",
      "    return saySomething(row[\"Postcode\"])"
     ],
     "language": "python",
     "metadata": {},
     "outputs": [],
     "prompt_number": 134
    },
    {
     "cell_type": "code",
     "collapsed": false,
     "input": [
      "saySomething(postcodes[5000])"
     ],
     "language": "python",
     "metadata": {},
     "outputs": [
      {
       "metadata": {},
       "output_type": "pyout",
       "prompt_number": 125,
       "text": [
        "'Move South for more expensive houses'"
       ]
      }
     ],
     "prompt_number": 125
    },
    {
     "cell_type": "code",
     "collapsed": false,
     "input": [
      "#started 20:17\n",
      "pc[\"DescribeDirection\"] = pc.apply(saySomethingWrapper, axis=1)"
     ],
     "language": "python",
     "metadata": {},
     "outputs": [
      {
       "ename": "KeyboardInterrupt",
       "evalue": "",
       "output_type": "pyerr",
       "traceback": [
        "\u001b[0;31m---------------------------------------------------------------------------\u001b[0m\n\u001b[0;31mKeyboardInterrupt\u001b[0m                         Traceback (most recent call last)",
        "\u001b[0;32m<ipython-input-135-961be92e13c0>\u001b[0m in \u001b[0;36m<module>\u001b[0;34m()\u001b[0m\n\u001b[1;32m      1\u001b[0m \u001b[0;31m#started 20:17\u001b[0m\u001b[0;34m\u001b[0m\u001b[0;34m\u001b[0m\u001b[0m\n\u001b[0;32m----> 2\u001b[0;31m \u001b[0mpc\u001b[0m\u001b[0;34m[\u001b[0m\u001b[0;34m\"DescribeDirection\"\u001b[0m\u001b[0;34m]\u001b[0m \u001b[0;34m=\u001b[0m \u001b[0mpc\u001b[0m\u001b[0;34m.\u001b[0m\u001b[0mapply\u001b[0m\u001b[0;34m(\u001b[0m\u001b[0msaySomethingWrapper\u001b[0m\u001b[0;34m,\u001b[0m \u001b[0maxis\u001b[0m\u001b[0;34m=\u001b[0m\u001b[0;36m1\u001b[0m\u001b[0;34m)\u001b[0m\u001b[0;34m\u001b[0m\u001b[0m\n\u001b[0m",
        "\u001b[0;32m/usr/lib/python2.7/dist-packages/pandas/core/frame.pyc\u001b[0m in \u001b[0;36mapply\u001b[0;34m(self, func, axis, broadcast, raw, reduce, args, **kwds)\u001b[0m\n\u001b[1;32m   3310\u001b[0m                     \u001b[0;32mif\u001b[0m \u001b[0mreduce\u001b[0m \u001b[0;32mis\u001b[0m \u001b[0mNone\u001b[0m\u001b[0;34m:\u001b[0m\u001b[0;34m\u001b[0m\u001b[0m\n\u001b[1;32m   3311\u001b[0m                         \u001b[0mreduce\u001b[0m \u001b[0;34m=\u001b[0m \u001b[0mTrue\u001b[0m\u001b[0;34m\u001b[0m\u001b[0m\n\u001b[0;32m-> 3312\u001b[0;31m                     \u001b[0;32mreturn\u001b[0m \u001b[0mself\u001b[0m\u001b[0;34m.\u001b[0m\u001b[0m_apply_standard\u001b[0m\u001b[0;34m(\u001b[0m\u001b[0mf\u001b[0m\u001b[0;34m,\u001b[0m \u001b[0maxis\u001b[0m\u001b[0;34m,\u001b[0m \u001b[0mreduce\u001b[0m\u001b[0;34m=\u001b[0m\u001b[0mreduce\u001b[0m\u001b[0;34m)\u001b[0m\u001b[0;34m\u001b[0m\u001b[0m\n\u001b[0m\u001b[1;32m   3313\u001b[0m             \u001b[0;32melse\u001b[0m\u001b[0;34m:\u001b[0m\u001b[0;34m\u001b[0m\u001b[0m\n\u001b[1;32m   3314\u001b[0m                 \u001b[0;32mreturn\u001b[0m \u001b[0mself\u001b[0m\u001b[0;34m.\u001b[0m\u001b[0m_apply_broadcast\u001b[0m\u001b[0;34m(\u001b[0m\u001b[0mf\u001b[0m\u001b[0;34m,\u001b[0m \u001b[0maxis\u001b[0m\u001b[0;34m)\u001b[0m\u001b[0;34m\u001b[0m\u001b[0m\n",
        "\u001b[0;32m/usr/lib/python2.7/dist-packages/pandas/core/frame.pyc\u001b[0m in \u001b[0;36m_apply_standard\u001b[0;34m(self, func, axis, ignore_failures, reduce)\u001b[0m\n\u001b[1;32m   3361\u001b[0m                 \u001b[0mlabels\u001b[0m \u001b[0;34m=\u001b[0m \u001b[0mself\u001b[0m\u001b[0;34m.\u001b[0m\u001b[0m_get_agg_axis\u001b[0m\u001b[0;34m(\u001b[0m\u001b[0maxis\u001b[0m\u001b[0;34m)\u001b[0m\u001b[0;34m\u001b[0m\u001b[0m\n\u001b[1;32m   3362\u001b[0m                 result = lib.reduce(values, func, axis=axis, dummy=dummy,\n\u001b[0;32m-> 3363\u001b[0;31m                                     labels=labels)\n\u001b[0m\u001b[1;32m   3364\u001b[0m                 \u001b[0;32mreturn\u001b[0m \u001b[0mSeries\u001b[0m\u001b[0;34m(\u001b[0m\u001b[0mresult\u001b[0m\u001b[0;34m,\u001b[0m \u001b[0mindex\u001b[0m\u001b[0;34m=\u001b[0m\u001b[0mlabels\u001b[0m\u001b[0;34m)\u001b[0m\u001b[0;34m\u001b[0m\u001b[0m\n\u001b[1;32m   3365\u001b[0m             \u001b[0;32mexcept\u001b[0m \u001b[0mException\u001b[0m\u001b[0;34m:\u001b[0m\u001b[0;34m\u001b[0m\u001b[0m\n",
        "\u001b[0;32m/usr/lib/python2.7/dist-packages/pandas/lib.so\u001b[0m in \u001b[0;36mpandas.lib.reduce (pandas/lib.c:29907)\u001b[0;34m()\u001b[0m\n",
        "\u001b[0;32m/usr/lib/python2.7/dist-packages/pandas/lib.so\u001b[0m in \u001b[0;36mpandas.lib.Reducer.get_result (pandas/lib.c:20952)\u001b[0;34m()\u001b[0m\n",
        "\u001b[0;32m<ipython-input-134-dbad3db52d53>\u001b[0m in \u001b[0;36msaySomethingWrapper\u001b[0;34m(row)\u001b[0m\n\u001b[1;32m     48\u001b[0m \u001b[0;34m\u001b[0m\u001b[0m\n\u001b[1;32m     49\u001b[0m \u001b[0;32mdef\u001b[0m \u001b[0msaySomethingWrapper\u001b[0m\u001b[0;34m(\u001b[0m\u001b[0mrow\u001b[0m\u001b[0;34m)\u001b[0m\u001b[0;34m:\u001b[0m\u001b[0;34m\u001b[0m\u001b[0m\n\u001b[0;32m---> 50\u001b[0;31m     \u001b[0;32mreturn\u001b[0m \u001b[0msaySomething\u001b[0m\u001b[0;34m(\u001b[0m\u001b[0mrow\u001b[0m\u001b[0;34m[\u001b[0m\u001b[0;34m\"Postcode\"\u001b[0m\u001b[0;34m]\u001b[0m\u001b[0;34m)\u001b[0m\u001b[0;34m\u001b[0m\u001b[0m\n\u001b[0m",
        "\u001b[0;32m<ipython-input-134-dbad3db52d53>\u001b[0m in \u001b[0;36msaySomething\u001b[0;34m(postCode)\u001b[0m\n\u001b[1;32m     32\u001b[0m \u001b[0;34m\u001b[0m\u001b[0m\n\u001b[1;32m     33\u001b[0m \u001b[0;32mdef\u001b[0m \u001b[0msaySomething\u001b[0m\u001b[0;34m(\u001b[0m\u001b[0mpostCode\u001b[0m\u001b[0;34m)\u001b[0m\u001b[0;34m:\u001b[0m\u001b[0;34m\u001b[0m\u001b[0m\n\u001b[0;32m---> 34\u001b[0;31m     \u001b[0mcurrSq\u001b[0m \u001b[0;34m=\u001b[0m \u001b[0mgetSquare\u001b[0m\u001b[0;34m(\u001b[0m\u001b[0mpostCode\u001b[0m\u001b[0;34m)\u001b[0m\u001b[0;34m\u001b[0m\u001b[0m\n\u001b[0m\u001b[1;32m     35\u001b[0m     \u001b[0mnearbySq\u001b[0m \u001b[0;34m=\u001b[0m \u001b[0mneighbours\u001b[0m\u001b[0;34m(\u001b[0m\u001b[0mcurrSq\u001b[0m\u001b[0;34m)\u001b[0m\u001b[0;34m\u001b[0m\u001b[0m\n\u001b[1;32m     36\u001b[0m     \u001b[0mcurrentPrice\u001b[0m \u001b[0;34m=\u001b[0m \u001b[0mgetPrice\u001b[0m\u001b[0;34m(\u001b[0m\u001b[0mcurrSq\u001b[0m\u001b[0;34m)\u001b[0m\u001b[0;34m\u001b[0m\u001b[0m\n",
        "\u001b[0;32m<ipython-input-134-dbad3db52d53>\u001b[0m in \u001b[0;36mgetSquare\u001b[0;34m(postCode)\u001b[0m\n\u001b[1;32m      6\u001b[0m \u001b[0;34m\u001b[0m\u001b[0m\n\u001b[1;32m      7\u001b[0m \u001b[0;32mdef\u001b[0m \u001b[0mgetSquare\u001b[0m\u001b[0;34m(\u001b[0m\u001b[0mpostCode\u001b[0m\u001b[0;34m)\u001b[0m\u001b[0;34m:\u001b[0m\u001b[0;34m\u001b[0m\u001b[0m\n\u001b[0;32m----> 8\u001b[0;31m     \u001b[0mx\u001b[0m\u001b[0;34m,\u001b[0m\u001b[0my\u001b[0m \u001b[0;34m=\u001b[0m \u001b[0mgetXY\u001b[0m\u001b[0;34m(\u001b[0m\u001b[0mpostCode\u001b[0m\u001b[0;34m)\u001b[0m\u001b[0;34m\u001b[0m\u001b[0m\n\u001b[0m\u001b[1;32m      9\u001b[0m     \u001b[0msq\u001b[0m \u001b[0;34m=\u001b[0m \u001b[0mint\u001b[0m\u001b[0;34m(\u001b[0m\u001b[0mxyToSquare2\u001b[0m\u001b[0;34m(\u001b[0m\u001b[0mx\u001b[0m\u001b[0;34m,\u001b[0m\u001b[0my\u001b[0m\u001b[0;34m)\u001b[0m\u001b[0;34m)\u001b[0m\u001b[0;34m\u001b[0m\u001b[0m\n\u001b[1;32m     10\u001b[0m     \u001b[0;32mreturn\u001b[0m \u001b[0msq\u001b[0m\u001b[0;34m\u001b[0m\u001b[0m\n",
        "\u001b[0;32m<ipython-input-134-dbad3db52d53>\u001b[0m in \u001b[0;36mgetXY\u001b[0;34m(postCode)\u001b[0m\n\u001b[1;32m      1\u001b[0m \u001b[0;32mdef\u001b[0m \u001b[0mgetXY\u001b[0m\u001b[0;34m(\u001b[0m\u001b[0mpostCode\u001b[0m\u001b[0;34m)\u001b[0m\u001b[0;34m:\u001b[0m\u001b[0;34m\u001b[0m\u001b[0m\n\u001b[0;32m----> 2\u001b[0;31m     \u001b[0mpcdata\u001b[0m \u001b[0;34m=\u001b[0m \u001b[0mpc\u001b[0m\u001b[0;34m[\u001b[0m\u001b[0mpc\u001b[0m\u001b[0;34m[\u001b[0m\u001b[0;34m\"Postcode\"\u001b[0m\u001b[0;34m]\u001b[0m \u001b[0;34m==\u001b[0m \u001b[0mpostCode\u001b[0m\u001b[0;34m.\u001b[0m\u001b[0mupper\u001b[0m\u001b[0;34m(\u001b[0m\u001b[0;34m)\u001b[0m\u001b[0;34m]\u001b[0m\u001b[0;34m\u001b[0m\u001b[0m\n\u001b[0m\u001b[1;32m      3\u001b[0m     \u001b[0mlat\u001b[0m\u001b[0;34m,\u001b[0m \u001b[0mlon\u001b[0m \u001b[0;34m=\u001b[0m \u001b[0mpcdata\u001b[0m\u001b[0;34m[\u001b[0m\u001b[0;34m\"Latitude\"\u001b[0m\u001b[0;34m]\u001b[0m\u001b[0;34m.\u001b[0m\u001b[0mvalues\u001b[0m\u001b[0;34m[\u001b[0m\u001b[0;36m0\u001b[0m\u001b[0;34m]\u001b[0m\u001b[0;34m,\u001b[0m \u001b[0mpcdata\u001b[0m\u001b[0;34m[\u001b[0m\u001b[0;34m\"Longitude\"\u001b[0m\u001b[0;34m]\u001b[0m\u001b[0;34m.\u001b[0m\u001b[0mvalues\u001b[0m\u001b[0;34m[\u001b[0m\u001b[0;36m0\u001b[0m\u001b[0;34m]\u001b[0m\u001b[0;34m\u001b[0m\u001b[0m\n\u001b[1;32m      4\u001b[0m     \u001b[0mx\u001b[0m\u001b[0;34m,\u001b[0m \u001b[0my\u001b[0m \u001b[0;34m=\u001b[0m \u001b[0mnp\u001b[0m\u001b[0;34m.\u001b[0m\u001b[0mcos\u001b[0m\u001b[0;34m(\u001b[0m\u001b[0mnp\u001b[0m\u001b[0;34m.\u001b[0m\u001b[0mradians\u001b[0m\u001b[0;34m(\u001b[0m\u001b[0mlat\u001b[0m\u001b[0;34m)\u001b[0m\u001b[0;34m)\u001b[0m\u001b[0;34m*\u001b[0m\u001b[0mlon\u001b[0m\u001b[0;34m,\u001b[0m \u001b[0mlat\u001b[0m\u001b[0;34m\u001b[0m\u001b[0m\n\u001b[1;32m      5\u001b[0m     \u001b[0;32mreturn\u001b[0m \u001b[0mx\u001b[0m\u001b[0;34m,\u001b[0m\u001b[0my\u001b[0m\u001b[0;34m\u001b[0m\u001b[0m\n",
        "\u001b[0;32m/usr/lib/python2.7/dist-packages/pandas/core/ops.pyc\u001b[0m in \u001b[0;36mwrapper\u001b[0;34m(self, other)\u001b[0m\n\u001b[1;32m    552\u001b[0m         \u001b[0;32melse\u001b[0m\u001b[0;34m:\u001b[0m\u001b[0;34m\u001b[0m\u001b[0m\n\u001b[1;32m    553\u001b[0m \u001b[0;34m\u001b[0m\u001b[0m\n\u001b[0;32m--> 554\u001b[0;31m             \u001b[0mmask\u001b[0m \u001b[0;34m=\u001b[0m \u001b[0misnull\u001b[0m\u001b[0;34m(\u001b[0m\u001b[0mself\u001b[0m\u001b[0;34m)\u001b[0m\u001b[0;34m\u001b[0m\u001b[0m\n\u001b[0m\u001b[1;32m    555\u001b[0m \u001b[0;34m\u001b[0m\u001b[0m\n\u001b[1;32m    556\u001b[0m             \u001b[0mvalues\u001b[0m \u001b[0;34m=\u001b[0m \u001b[0mself\u001b[0m\u001b[0;34m.\u001b[0m\u001b[0mvalues\u001b[0m\u001b[0;34m\u001b[0m\u001b[0m\n",
        "\u001b[0;32m/usr/lib/python2.7/dist-packages/pandas/core/common.pyc\u001b[0m in \u001b[0;36misnull\u001b[0;34m(obj)\u001b[0m\n\u001b[1;32m    123\u001b[0m         \u001b[0mgiven\u001b[0m \u001b[0mwhich\u001b[0m \u001b[0mof\u001b[0m \u001b[0mthe\u001b[0m \u001b[0melement\u001b[0m \u001b[0;32mis\u001b[0m \u001b[0mnull\u001b[0m\u001b[0;34m.\u001b[0m\u001b[0;34m\u001b[0m\u001b[0m\n\u001b[1;32m    124\u001b[0m     \"\"\"\n\u001b[0;32m--> 125\u001b[0;31m     \u001b[0;32mreturn\u001b[0m \u001b[0m_isnull\u001b[0m\u001b[0;34m(\u001b[0m\u001b[0mobj\u001b[0m\u001b[0;34m)\u001b[0m\u001b[0;34m\u001b[0m\u001b[0m\n\u001b[0m\u001b[1;32m    126\u001b[0m \u001b[0;34m\u001b[0m\u001b[0m\n\u001b[1;32m    127\u001b[0m \u001b[0;34m\u001b[0m\u001b[0m\n",
        "\u001b[0;32m/usr/lib/python2.7/dist-packages/pandas/core/common.pyc\u001b[0m in \u001b[0;36m_isnull_new\u001b[0;34m(obj)\u001b[0m\n\u001b[1;32m    133\u001b[0m         \u001b[0;32mraise\u001b[0m \u001b[0mNotImplementedError\u001b[0m\u001b[0;34m(\u001b[0m\u001b[0;34m\"isnull is not defined for MultiIndex\"\u001b[0m\u001b[0;34m)\u001b[0m\u001b[0;34m\u001b[0m\u001b[0m\n\u001b[1;32m    134\u001b[0m     \u001b[0;32melif\u001b[0m \u001b[0misinstance\u001b[0m\u001b[0;34m(\u001b[0m\u001b[0mobj\u001b[0m\u001b[0;34m,\u001b[0m \u001b[0;34m(\u001b[0m\u001b[0mABCSeries\u001b[0m\u001b[0;34m,\u001b[0m \u001b[0mnp\u001b[0m\u001b[0;34m.\u001b[0m\u001b[0mndarray\u001b[0m\u001b[0;34m)\u001b[0m\u001b[0;34m)\u001b[0m\u001b[0;34m:\u001b[0m\u001b[0;34m\u001b[0m\u001b[0m\n\u001b[0;32m--> 135\u001b[0;31m         \u001b[0;32mreturn\u001b[0m \u001b[0m_isnull_ndarraylike\u001b[0m\u001b[0;34m(\u001b[0m\u001b[0mobj\u001b[0m\u001b[0;34m)\u001b[0m\u001b[0;34m\u001b[0m\u001b[0m\n\u001b[0m\u001b[1;32m    136\u001b[0m     \u001b[0;32melif\u001b[0m \u001b[0misinstance\u001b[0m\u001b[0;34m(\u001b[0m\u001b[0mobj\u001b[0m\u001b[0;34m,\u001b[0m \u001b[0mABCGeneric\u001b[0m\u001b[0;34m)\u001b[0m\u001b[0;34m:\u001b[0m\u001b[0;34m\u001b[0m\u001b[0m\n\u001b[1;32m    137\u001b[0m         \u001b[0;32mreturn\u001b[0m \u001b[0mobj\u001b[0m\u001b[0;34m.\u001b[0m\u001b[0m_constructor\u001b[0m\u001b[0;34m(\u001b[0m\u001b[0mobj\u001b[0m\u001b[0;34m.\u001b[0m\u001b[0m_data\u001b[0m\u001b[0;34m.\u001b[0m\u001b[0mapply\u001b[0m\u001b[0;34m(\u001b[0m\u001b[0;32mlambda\u001b[0m \u001b[0mx\u001b[0m\u001b[0;34m:\u001b[0m \u001b[0misnull\u001b[0m\u001b[0;34m(\u001b[0m\u001b[0mx\u001b[0m\u001b[0;34m.\u001b[0m\u001b[0mvalues\u001b[0m\u001b[0;34m)\u001b[0m\u001b[0;34m)\u001b[0m\u001b[0;34m)\u001b[0m\u001b[0;34m\u001b[0m\u001b[0m\n",
        "\u001b[0;32m/usr/lib/python2.7/dist-packages/pandas/core/common.pyc\u001b[0m in \u001b[0;36m_isnull_ndarraylike\u001b[0;34m(obj)\u001b[0m\n\u001b[1;32m    210\u001b[0m         \u001b[0;32melse\u001b[0m\u001b[0;34m:\u001b[0m\u001b[0;34m\u001b[0m\u001b[0m\n\u001b[1;32m    211\u001b[0m             \u001b[0mresult\u001b[0m \u001b[0;34m=\u001b[0m \u001b[0mnp\u001b[0m\u001b[0;34m.\u001b[0m\u001b[0mempty\u001b[0m\u001b[0;34m(\u001b[0m\u001b[0mshape\u001b[0m\u001b[0;34m,\u001b[0m \u001b[0mdtype\u001b[0m\u001b[0;34m=\u001b[0m\u001b[0mbool\u001b[0m\u001b[0;34m)\u001b[0m\u001b[0;34m\u001b[0m\u001b[0m\n\u001b[0;32m--> 212\u001b[0;31m             \u001b[0mvec\u001b[0m \u001b[0;34m=\u001b[0m \u001b[0mlib\u001b[0m\u001b[0;34m.\u001b[0m\u001b[0misnullobj\u001b[0m\u001b[0;34m(\u001b[0m\u001b[0mvalues\u001b[0m\u001b[0;34m.\u001b[0m\u001b[0mravel\u001b[0m\u001b[0;34m(\u001b[0m\u001b[0;34m)\u001b[0m\u001b[0;34m)\u001b[0m\u001b[0;34m\u001b[0m\u001b[0m\n\u001b[0m\u001b[1;32m    213\u001b[0m             \u001b[0mresult\u001b[0m\u001b[0;34m[\u001b[0m\u001b[0;34m:\u001b[0m\u001b[0;34m]\u001b[0m \u001b[0;34m=\u001b[0m \u001b[0mvec\u001b[0m\u001b[0;34m.\u001b[0m\u001b[0mreshape\u001b[0m\u001b[0;34m(\u001b[0m\u001b[0mshape\u001b[0m\u001b[0;34m)\u001b[0m\u001b[0;34m\u001b[0m\u001b[0m\n\u001b[1;32m    214\u001b[0m \u001b[0;34m\u001b[0m\u001b[0m\n",
        "\u001b[0;31mKeyboardInterrupt\u001b[0m: "
       ]
      }
     ],
     "prompt_number": 135
    },
    {
     "cell_type": "code",
     "collapsed": false,
     "input": [],
     "language": "python",
     "metadata": {},
     "outputs": []
    }
   ],
   "metadata": {}
  }
 ]
}