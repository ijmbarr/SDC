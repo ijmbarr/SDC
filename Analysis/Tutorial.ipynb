{
 "metadata": {
  "name": "",
  "signature": "sha256:ffdcb201616db2d948b7dfca3693c30b7bfada149e528ac4e9c91ca17a34ce86"
 },
 "nbformat": 3,
 "nbformat_minor": 0,
 "worksheets": []
}